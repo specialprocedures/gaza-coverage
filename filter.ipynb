{
 "cells": [
  {
   "cell_type": "code",
   "execution_count": 43,
   "id": "0659bd45",
   "metadata": {},
   "outputs": [],
   "source": [
    "import pandas as pd\n",
    "import json\n",
    "\n",
    "# Load in data\n",
    "with open(\"data/newsapi/uk_2_year.json\", \"r\") as f:\n",
    "    source_data = json.load(f)\n",
    "\n",
    "    # Break out into articles and concepts (NER)\n",
    "    articles_list = []\n",
    "    concept_list = []\n",
    "    for item in source_data:\n",
    "        item_concepts = item.pop(\"concepts\", [])\n",
    "        for concept in item_concepts:\n",
    "            concept[\"article_uri\"] = item[\"uri\"]\n",
    "            concept_list.append(concept)\n",
    "        articles_list.append(item)\n",
    "\n",
    "    # Build articles frame and do some basic column setting\n",
    "    articles = (\n",
    "        pd.json_normalize(articles_list)\n",
    "        .rename(columns={\"source.title\": \"source\"})\n",
    "        .assign(date=lambda x: pd.to_datetime(x[\"date\"]))\n",
    "    )\n",
    "\n",
    "    # Concepts frame is straightforward\n",
    "    concepts = pd.json_normalize(concept_list)"
   ]
  },
  {
   "cell_type": "markdown",
   "id": "3f727602",
   "metadata": {},
   "source": [
    "# Filtering\n",
    "\n",
    "Before undertaking LLM-processing and analysis, we need to filter the articles to ensure appropriate format and relevance. \n",
    "\n",
    "The objective is to isolate typical-format news articles which have a direct relevance to the conflict.\n",
    "\n",
    "This is achieved through the following mechanisms:\n",
    "\n",
    "## Cropping of very short and long-format articles\n",
    "- Short: A typical news piece is around 2,000 characters long, and we see many in the dataset well below that. These are often intro texts to videos or links to external media, and do not represent the majority of news coverage.\n",
    "- Long: Some articles are exceedingly long, up to 50,000 characters. Articles of this length pose challenges for LLM-based extraction, and aren't necessarily representative of the overall discourse on Gaza.\n",
    "\n",
    "I make a conservative crop of the lowest and highest deciles in the batch, removing articles with character lengths that can be considered outliers.\n",
    "\n",
    "## Ensuring relevance\n",
    "As one of the largest ongoing news stories of the last two years, the conflict in Gaza is mentioned in a wide variety of contexts, often in passing. Articles are extracted from the database on the basis of keyword matching, so even a single mention of Gaza will result in an article being included.\n",
    "\n",
    "Secondary effects of the conflict, e.g., protests, international diplomacy, are very much considered of relevance, however the dataset contains considerable numbers of articles primarily related to Ukraine, domestic politics in Western nations, broader international politics (e.g. COP28), and even recipes.\n",
    "\n",
    "I use named-entity recognition, bundled with the data from newsapi to develop a \"relevance score\" to rank articles on relevance. I then develop a cut-off threshold, based on examination of the data.\n",
    "\n"
   ]
  },
  {
   "cell_type": "code",
   "execution_count": 44,
   "id": "3aac61d3",
   "metadata": {},
   "outputs": [
    {
     "name": "stdout",
     "output_type": "stream",
     "text": [
      "|       |   body_length |\n",
      "|:------|--------------:|\n",
      "| count |      12377    |\n",
      "| mean  |       4941.9  |\n",
      "| std   |       3311.09 |\n",
      "| min   |        362    |\n",
      "| 25%   |       3021    |\n",
      "| 50%   |       4417    |\n",
      "| 75%   |       6067    |\n",
      "| max   |      45948    |\n"
     ]
    },
    {
     "data": {
      "text/plain": [
       "<Axes: >"
      ]
     },
     "execution_count": 44,
     "metadata": {},
     "output_type": "execute_result"
    },
    {
     "data": {
      "image/png": "[encoded data removed]",
      "text/plain": [
       "<Figure size 640x480 with 1 Axes>"
      ]
     },
     "metadata": {},
     "output_type": "display_data"
    }
   ],
   "source": [
    "articles[\"body_length\"] = articles[\"body\"].str.len()\n",
    "print(articles[\"body_length\"].describe().to_markdown())\n",
    "\n",
    "articles[\"body_length\"].hist(bins=100)"
   ]
  },
  {
   "cell_type": "code",
   "execution_count": 45,
   "id": "f513a5e1",
   "metadata": {},
   "outputs": [
    {
     "name": "stdout",
     "output_type": "stream",
     "text": [
      "Top decile: 8147.0\n",
      "Bottom decile: 1706.0\n",
      "Total articles before filtering: 12377\n",
      "Total articles after filtering: 9903\n"
     ]
    },
    {
     "data": {
      "text/plain": [
       "<Axes: >"
      ]
     },
     "execution_count": 45,
     "metadata": {},
     "output_type": "execute_result"
    },
    {
     "data": {
      "image/png": "[encoded data removed]",
      "text/plain": [
       "<Figure size 640x480 with 1 Axes>"
      ]
     },
     "metadata": {},
     "output_type": "display_data"
    }
   ],
   "source": [
    "# Get top and bottom deciles\n",
    "top_decile = articles[\"body_length\"].quantile(0.9)\n",
    "bottom_decile = articles[\"body_length\"].quantile(0.1)\n",
    "\n",
    "print(f\"Top decile: {top_decile}\")\n",
    "print(f\"Bottom decile: {bottom_decile}\")\n",
    "\n",
    "print(f\"Total articles before filtering: {len(articles)}\")\n",
    "\n",
    "# Filter by deciles\n",
    "articles = articles[\n",
    "    (articles[\"body_length\"] <= top_decile) & (articles[\"body_length\"] >= bottom_decile)\n",
    "]\n",
    "\n",
    "print(f\"Total articles after filtering: {len(articles)}\")\n",
    "\n",
    "articles[\"body_length\"].hist(bins=100)"
   ]
  },
  {
   "cell_type": "markdown",
   "id": "8343583c",
   "metadata": {},
   "source": [
    "# Ensuring relevant articles\n",
    "We want to make sure that all the articles we're looking at are focussed on Gaza. This will not be the case on the whole dataset, as the data results from a search keyword matches."
   ]
  },
  {
   "cell_type": "code",
   "execution_count": 46,
   "id": "fb601476",
   "metadata": {},
   "outputs": [
    {
     "data": {
      "text/plain": [
       "array(['Gaza Strip', 'Israel', 'Hamas', 'Palestinians', 'United Kingdom',\n",
       "       'Israel Defense Forces', 'Benjamin Netanyahu', 'Donald Trump',\n",
       "       'Ceasefire', 'Middle East', 'United Nations', 'Terrorism', 'Jews',\n",
       "       'Joe Biden', 'United States', 'Labour Party (UK)', 'Hostage',\n",
       "       'Iran', 'Humanitarian aid', 'Ukraine', 'Antisemitism', 'Genocide',\n",
       "       'Keir Starmer', 'London', 'Prime Minister of the United Kingdom'],\n",
       "      dtype=object)"
      ]
     },
     "execution_count": 46,
     "metadata": {},
     "output_type": "execute_result"
    }
   ],
   "source": [
    "concepts[[\"uri\", \"label.eng\"]].value_counts().reset_index().head(25)[\"label.eng\"].values"
   ]
  },
  {
   "cell_type": "code",
   "execution_count": 47,
   "id": "7cb324f5",
   "metadata": {},
   "outputs": [],
   "source": [
    "# I take the top 25 concepts and manually filter to the relevant ones\n",
    "# Removing those that are not directly related to the Gaza conflict\n",
    "# This is admittedly somewhat subjective, I considered removing\n",
    "# \"Hostage\", \"Terrorism\", \"Antisemitism\", and \"Genocide\" as they could\n",
    "# Apply in a lot of other contexts, but they are also very relevant to the current\n",
    "# conflict so I have kept them in.\n",
    "\n",
    "# The most important ones to remove are things like \"United Kingdom\", \"United States\",\n",
    "# \"Donald Trump\", \"Keir Starmer\", etc., where there's a much, much broader news agenda relating\n",
    "# to these entities that is not related. One of the big problems I had in the first pass was dealing\n",
    "# with the Trump show.\n",
    "\n",
    "\n",
    "relevant_concepts = [\n",
    "    \"Gaza Strip\",\n",
    "    \"Israel\",\n",
    "    \"Hamas\",\n",
    "    \"Palestinians\",\n",
    "    # \"United Kingdom\",\n",
    "    \"Israel Defense Forces\",\n",
    "    \"Benjamin Netanyahu\",\n",
    "    # \"Donald Trump\",\n",
    "    \"Ceasefire\",\n",
    "    \"Middle East\",\n",
    "    \"United Nations\",\n",
    "    \"Terrorism\",\n",
    "    \"Jews\",\n",
    "    # \"Joe Biden\",\n",
    "    # \"United States\",\n",
    "    # \"Labour Party (UK)\",\n",
    "    \"Hostage\",\n",
    "    \"Iran\",\n",
    "    \"Humanitarian aid\",\n",
    "    # \"Ukraine\",\n",
    "    \"Antisemitism\",\n",
    "    \"Genocide\",\n",
    "    # \"Keir Starmer\",\n",
    "    # \"London\",\n",
    "    # \"Prime Minister of the United Kingdom\",\n",
    "]\n",
    "regional_conflict = [\"Yemen\", \"Syria\", \"Lebanon\"]\n",
    "\n",
    "relevant_concepts += regional_conflict"
   ]
  },
  {
   "cell_type": "code",
   "execution_count": 48,
   "id": "007dcf2b",
   "metadata": {},
   "outputs": [],
   "source": [
    "# Applying the scoring\n",
    "\n",
    "# Building relevance scoring table\n",
    "relevance_scoring = (\n",
    "    concepts[concepts[\"label.eng\"].isin(relevant_concepts)]\n",
    "    .groupby(\"article_uri\")[\"score\"]\n",
    "    .sum()\n",
    ")\n",
    "\n",
    "# The scores will be biased towards longer articles with more concepts,\n",
    "# so we normalise by the length of the article\n",
    "\n",
    "article_lengths = articles.set_index(\"uri\")[\"body\"].str.len()\n",
    "\n",
    "\n",
    "relevance_scoring = (\n",
    "    pd.concat([relevance_scoring, article_lengths], axis=1, join=\"outer\")\n",
    "    .merge(articles.set_index(\"uri\")[\"title\"], left_index=True, right_index=True)\n",
    "    .rename(columns={\"body\": \"body_length\"})\n",
    ")\n",
    "\n",
    "# Filling NA with 0, and calculating normalised score\n",
    "relevance_scoring = relevance_scoring.fillna(0).assign(\n",
    "    score=lambda x: x[\"score\"] / x[\"body_length\"]\n",
    ")\n",
    "\n",
    "\n",
    "# Min-max normalisation to get a 0-1 score\n",
    "from sklearn.preprocessing import MinMaxScaler\n",
    "\n",
    "scaler = MinMaxScaler()\n",
    "relevance_scoring[\"score\"] = scaler.fit_transform(relevance_scoring[[\"score\"]])"
   ]
  },
  {
   "cell_type": "code",
   "execution_count": 49,
   "id": "6ec0f834",
   "metadata": {},
   "outputs": [
    {
     "name": "stdout",
     "output_type": "stream",
     "text": [
      "### 0-0.05 ###\n",
      "|      score | title                                                                                                                               |\n",
      "|-----------:|:------------------------------------------------------------------------------------------------------------------------------------|\n",
      "| 0          | 'I'm happy for everyone released, but there is also sadness': film-maker Odessa Rae on today's momentous prisoner swap              |\n",
      "| 0.00795153 | Biden's address was a moving piece of political theatre and a rebuke of Trump                                                       |\n",
      "| 0.00803961 | Tory co-chair braces party for big losses as Kemi Badenoch launches local elections campaign - UK politics live                     |\n",
      "| 0.00917577 | TikTok is the only truly democratic social platform. A US ban would rob us all | Sophia Smith Galer                                 |\n",
      "| 0.0135276  | Europe is about to help Putin seize victory from the jaws of defeat                                                                 |\n",
      "| 0.0142677  | It was a landslide election but this much is clear: neither Labour nor the Tories stand on solid ground | Aditya Chakrabortty       |\n",
      "| 0.0146834  | Even worse than Greens' awful manifesto is just how very boring they are                                                            |\n",
      "| 0.0149406  | The Tories send in the clowns, and bashing the BBC has never been so laughable                                                      |\n",
      "| 0.0166947  | Top Democrat says intelligence briefing cancelled after attacks by far-right Laura Loomer                                           |\n",
      "| 0.0189745  | Biden says it was his 'obligation to the country' to drop out of presidential race                                                  |\n",
      "| 0.0216236  | The Guardian view on a second Trump presidency: things could only get worse                                                         |\n",
      "| 0.0217008  | On my radar: Jack Rooke's cultural highlights                                                                                       |\n",
      "| 0.0231966  | US citizen wrongfully arrested by border patrol in Arizona held for nearly 10 days                                                  |\n",
      "| 0.0253202  | Open letter: we call on Columbia to stand up to authoritarianism | Open letter                                                      |\n",
      "| 0.0282824  | Keir Starmer's fine words won't save journalism, action will | Letters                                                              |\n",
      "| 0.0296053  | EU exploring 'plan b' Ukraine funding as Hungary threatens to veto €50bn aid package                                                |\n",
      "| 0.0299456  | How social media lies fuelled a rush to war between India and Pakistan                                                              |\n",
      "| 0.035202   | France refused to sign statement supporting coalition strikes on Houthis despite presence in Red Sea                                |\n",
      "| 0.0389989  | John Major condemns 'callous' aid cuts and growing national self-interest                                                           |\n",
      "| 0.0390458  | The essential ingredient of any vaccination programme? Women | Sania Nishtar and Svenja Schulze                                     |\n",
      "| 0.040907   | Tim Walz: from weird to the White House?                                                                                            |\n",
      "| 0.0427468  | Five Great Reads: Lucy Liu, Tokyo's tourist problem and Gisèle Pelicot's daughter speaks                                            |\n",
      "| 0.0429228  | Trump administration pauses $175m in funds to UPenn over trans athlete policy                                                       |\n",
      "| 0.0433823  | The shock return of Ivanka - and what jobs Don Jr and granddaughter Kai might have under Trump                                      |\n",
      "| 0.0445889  | Morning Mail: killings hidden in coded diaries of WA settler, huge Gaza protest on Sydney Harbour Bridge, Piastri second in Hungary |\n",
      "\n",
      "\n",
      "\n",
      "### 0.05-0.06 ###\n",
      "|     score | title                                                                                                            |\n",
      "|----------:|:-----------------------------------------------------------------------------------------------------------------|\n",
      "| 0.0508433 | The Guardian view on Joe Biden quitting the race: a fresh start for Democrats | Editorial                        |\n",
      "| 0.0510166 | Jack Straw urges Labour not to panic about threat of Nigel Farage                                                |\n",
      "| 0.0513533 | Columbia protester suit raises questions about free speech rights: 'Immigration enforcement as a bludgeon'       |\n",
      "| 0.0514484 | University of Michigan ends undercover surveillance contracts after Guardian revelations                         |\n",
      "| 0.0517829 | Ishion Hutchinson: 'I can hear a poem before it arrives'                                                         |\n",
      "| 0.0520124 | Has 'our' NHS finally hit rock bottom? I fear it has much further to fall                                        |\n",
      "| 0.0520124 | Trump monetizes assassination attempt by using photo as book cover                                               |\n",
      "| 0.0520309 | Morning Mail: what next for Fatima Payman; big gains for French far-right; schools in 'disgraceful' disrepair    |\n",
      "| 0.0521332 | Socialist nationalism is on the rise in Germany                                                                  |\n",
      "| 0.0526126 | Andy Burnham admits disappointment at being overlooked at Labour conference                                      |\n",
      "| 0.0528126 | Muslims face 'bleak and dystopian' climate in UK, says head of thinktank                                         |\n",
      "| 0.0530912 | Ivanka Trump told 'childcare' is not a valid reason to miss fraud trial                                          |\n",
      "| 0.0531202 | The Guardian view on Biden's warning of oligarchy: Trump and the malefactors of wealth | Editorial               |\n",
      "| 0.0540471 | Anneliese Dodds resigns over Keir Starmer's decision to cut aid budget                                           |\n",
      "| 0.0554432 | David Cameron: a controversial legacy on the international stage                                                 |\n",
      "| 0.0557382 | Australia news live: Erin Patterson to face court on mushroom murder charges; hope for new Gaza border crossings |\n",
      "| 0.0557915 | Exclusive: Somaliland president says recognition of state 'on the horizon' following Trump talks                 |\n",
      "| 0.0564663 | Biden officials decry Trump's anti-migrant xenophobia - yet quietly copy his stance| Moustafa Bayoumi            |\n",
      "| 0.0568237 | Hope and scepticism in Ukraine as Zelenskyy says Trump can bring about 'just peace'                              |\n",
      "| 0.056879  | Kerr 'speaking her truth', Santorini earthquakes emergency, Trump doubles down                                   |\n",
      "| 0.0571968 | Pro-Palestine fundraising gig in Newcastle cancelled after police said 'credible threat' made against venue      |\n",
      "| 0.0575794 | Tensions rise as police arrest 150 pro-Palestinian protesters at Yale and NYU                                    |\n",
      "| 0.0590496 | Sudan in 'world's largest humanitarian crisis' after two years of civil war                                      |\n",
      "| 0.0594954 | Sunak denies 'crisis' in local government funding despite bankruptcy warnings                                    |\n",
      "| 0.0597195 | Kant canned: Maltese singer rewrites Eurovision entry after C-word complaint                                     |\n",
      "\n",
      "\n",
      "\n",
      "### 0.06-0.07 ###\n",
      "|     score | title                                                                                                                               |\n",
      "|----------:|:------------------------------------------------------------------------------------------------------------------------------------|\n",
      "| 0.0606984 | Grey-haired granny activists are ruining Britain                                                                                    |\n",
      "| 0.0613003 | Does Prince William calling for fighting to stop in Gaza herald a new era of royal frankness? Let's hope so | Stephen Bates         |\n",
      "| 0.0618526 | The honeymoon is over for Trump, whose every unwitting misstep brings chaos and strife | Simon Tisdall                              |\n",
      "| 0.0620697 | Loyalty the key as impulsive Trump picks team for America First agenda                                                              |\n",
      "| 0.0621887 | Your next true-crime fix? This sensational investigative podcast                                                                    |\n",
      "| 0.062597  | Trump has yet to decide his VP pick - and it's turning into a pageant of its own                                                    |\n",
      "| 0.0635845 | Who is Bari Weiss, the new editor-in-chief of CBS News?                                                                             |\n",
      "| 0.0639048 | First Thing: Macron warns Trump against 'surrender' in Ukraine                                                                      |\n",
      "| 0.0640264 | US voters face a stark choice on foreign policy - and they might prefer Trump's offer | Emma Ashford                                |\n",
      "| 0.0644981 | Can Biden win back young voters with student debt action?                                                                           |\n",
      "| 0.0652968 | The Oscars were silent on Trump, diverging from protests of past years                                                              |\n",
      "| 0.065453  | The ABC and Creative Australia panicked in the face of controversy. These vital institutions must not be so timid | Margaret Simons |\n",
      "| 0.0655854 | Son of Palestinian refugees projected to win Calwell for Labor in most complex preference count in history                          |\n",
      "| 0.0658786 | Hugh Grant, Michael J Fox - and Matthew Perry: who were the real stars of this year's Baftas?                                       |\n",
      "| 0.0662706 | Ita Buttrose's emails 'hammering' top ABC executives instrumental in Antoinette Lattouf's sacking, court hears                      |\n",
      "| 0.0675439 | Hacked Game Boys and horseplay! Jarman award shortlist celebrates thinking outside the box                                          |\n",
      "| 0.0677725 | We can outlast Russia in Ukraine, Lord Cameron tells Nato                                                                           |\n",
      "| 0.0679212 | Iranians head out to vote in second round of presidential election                                                                  |\n",
      "| 0.0682836 | Rishi Sunak says Armistice Day pro-Palestine rally to go ahead after police talks                                                   |\n",
      "| 0.0687534 | Starmer hoping to survive unnoticed in face of fresh Trumpian hell | John Crace                                                     |\n",
      "| 0.0687534 | Galloway win makes Workers party a focus for far-left challenges to Labour                                                          |\n",
      "| 0.0689973 | US immigration officials detain doctoral student at University of Alabama                                                           |\n",
      "| 0.0694241 | Joe Biden has been a foreign policy titan, but Kamala Harris is no novice                                                           |\n",
      "| 0.0695134 | Threats and intimidation creating climate of fear at UN Cop events, say campaigners                                                 |\n",
      "| 0.0696977 | 'Gay, vegan and lives in Hackney': The firebrand with a plan to reinvent the Greens                                                 |\n",
      "\n",
      "\n",
      "\n",
      "### 0.07-0.08 ###\n",
      "|     score | title                                                                                                            |\n",
      "|----------:|:-----------------------------------------------------------------------------------------------------------------|\n",
      "| 0.0703059 | Harris hails first-time and gen Z voters at Wisconsin rally: 'I'm so proud of you'                               |\n",
      "| 0.0708258 | It's Cold War II, and the enemies of freedom are lining up to forge a new world order                            |\n",
      "| 0.0708341 | Britain's defence policy is more like one big declaration of war | Owen Jones                                    |\n",
      "| 0.0710469 | Morning Mail: Albanese hails China visit, borrowers brace for rate hike, Trump on the stand                      |\n",
      "| 0.0710988 | David Lammy: 'Britain has to start reconnecting with a dangerous, divided world'                                 |\n",
      "| 0.0712133 | Israeli campaign against ICC may be 'crimes against justice', say legal experts                                  |\n",
      "| 0.0729308 | Trump the wrecking ball brings chaos to order, executing a parade of grievances                                  |\n",
      "| 0.0736966 | What are we to make of Trump's Ukraine policy? | Matt Duss                                                       |\n",
      "| 0.0739593 | 'Little flare-up' could lead to Gaza-scale conflict, Turkish Cypriot leader warns                                |\n",
      "| 0.074346  | More than 1,000 US students punished over speech since 2020, report finds                                        |\n",
      "| 0.0753978 | Paramount files to dismiss Trump's 'baseless' $20bn 60 Minutes suit                                              |\n",
      "| 0.0754368 | The Zone of Interest becomes first British movie to win best international film Oscar                            |\n",
      "| 0.0756127 | The Guardian view on Labour's byelection victories: the party is edging closer to power | Editorial              |\n",
      "| 0.075975  | 'Our struggles are connected': Atlanta protesters link Cop City to Gaza war                                      |\n",
      "| 0.0760717 | Trump ICC sanctions order challenged in US court by human rights advocates                                       |\n",
      "| 0.077123  | Starmer vows to turn page on UK's relationship with the EU                                                       |\n",
      "| 0.0775211 | Chappell Roan isn't endorsing Kamala Harris. She's taking a stand for critical thinking instead                  |\n",
      "| 0.0776173 | When the horror stops, the key to peace in Gaza and Ukraine will be how power is shared | Simon Jenkins          |\n",
      "| 0.0776656 | University of Miami president tapped for chancellor role at UCLA                                                 |\n",
      "| 0.0778002 | Trump is abandoning democracy and freedom. That creates an opening for Europe - and Britain | Jonathan Freedland |\n",
      "| 0.0781858 | David Lammy brands Marine Le Pen 'toxic and malevolent' in past tweets                                           |\n",
      "| 0.0785647 | First Thing: Mamdani wins NYC mayoral primary after Cuomo concedes                                               |\n",
      "| 0.0787769 | A distracted West is about to snatch defeat from the jaws of victory in Ukraine                                  |\n",
      "| 0.0787939 | Queensland police go to court in bid to stop Story Bridge pro-Palestine protest march                            |\n",
      "| 0.0799861 | Trump's low/Albanese's high: inside the 9 May Guardian Weekly                                                    |\n",
      "\n",
      "\n",
      "\n",
      "### 0.08-0.09 ###\n",
      "|     score | title                                                                                                      |\n",
      "|----------:|:-----------------------------------------------------------------------------------------------------------|\n",
      "| 0.0801326 | Role of US servicemen in acts of extremist violence under scrutiny                                         |\n",
      "| 0.0801619 | Spanish PM Pedro Sánchez is right about immigration | Letters                                              |\n",
      "| 0.0809851 | First Thing: James Comey indicted on two charges as Trump pushes to prosecute political enemies            |\n",
      "| 0.0812267 | The scramble to flee Florida ahead of Hurricane Milton | First Thing                                       |\n",
      "| 0.0813067 | Muslim Council of Britain could be among groups identified as extremist                                    |\n",
      "| 0.081418  | The dark side of the Maldives                                                                              |\n",
      "| 0.0821248 | Morning Mail: changes to 'broken' migration system; Cop28 goes down to the wire; winter looms in Gaza      |\n",
      "| 0.0827772 | Berlin police investigate after Irish activist struck by officer at protest                                |\n",
      "| 0.082989  | Meet the new Left, who think Hamas are good and that Swastikas are woke                                    |\n",
      "| 0.0832257 | Obama condemns Trump's $2.3bn Harvard funding freeze as 'unlawful and ham-handed' - US politics live       |\n",
      "| 0.0835594 | Kamala Harris warns US freedom is under 'profound threat' in MLK Jr day speech                             |\n",
      "| 0.0837688 | Five Great Reads: night-time tales, Navalny's last days and a nepo baby made good                          |\n",
      "| 0.0838475 | David Marr follows Sam Maiden to the exit after Honi Soit withdraws speaking invitation | The Weekly Beast |\n",
      "| 0.0841273 | How pro-Palestine activists are using AI to evade social media censorship                                  |\n",
      "| 0.0845232 | MAGA extremists are holding America to ransom                                                              |\n",
      "| 0.0847092 | Michael Gove's definition of extremism will shut down vital debate | Observer editorial                    |\n",
      "| 0.084724  | Why George Galloway could be Keir Starmer's 'worst nightmare'                                              |\n",
      "| 0.0853828 | World media lambasts Trump's Gaza proposal, but News Corp praises idea as 'worth a try' | Weekly Beast     |\n",
      "| 0.0866701 | Writing off George Galloway ignores his dangerous appeal to both far left and right | Michael Chessum      |\n",
      "| 0.0867801 | Leaving Nato could help curb illegal migration, says Monty Panesar                                         |\n",
      "| 0.0874669 | Portland State University 'pauses' Boeing donations amid student protests                                  |\n",
      "| 0.087647  | The real reason Kamala Harris picked 'normie' Tim Walz                                                     |\n",
      "| 0.0884568 | SNP drops ban on funding arms companies                                                                    |\n",
      "| 0.0886629 | The mob cannot be allowed to subvert our democracy                                                         |\n",
      "| 0.0899752 | Judge orders bail hearing for detained student Mohsen Mahdawi next week                                    |\n",
      "\n",
      "\n",
      "\n",
      "### 0.09-0.1 ###\n",
      "|     score | title                                                                                                                   |\n",
      "|----------:|:------------------------------------------------------------------------------------------------------------------------|\n",
      "| 0.09004   | More than 800 faculty and staff at UCLA call for chancellor's resignation                                               |\n",
      "| 0.0908365 | Thirty years ago we said never again, Srebrenica. How much longer before we declare: never again, Gaza? | Ed Husic      |\n",
      "| 0.0912983 | China fuels Russia's war in Ukraine with weapons components, US warns                                                   |\n",
      "| 0.0913191 | The Observer view of US foreign policy: A dangerous new international order is unfolding | Observer editorial           |\n",
      "| 0.0915274 | Coalition reignites climate wars, security council endorses Gaza ceasefire plan, Titmus sends Paris warning             |\n",
      "| 0.0919436 | Donald Trump's 'Department of War' will just deliver bloodshed and destruction | Judith Levine                          |\n",
      "| 0.0920399 | Sunak seeks stature on the global stage - and to keep trouble away from home                                            |\n",
      "| 0.0923238 | Hardline parliament speaker and five others approved to run for Iran president                                          |\n",
      "| 0.0924203 | UCLA students describe violent attack on Gaza protest encampment: 'It was terrifying'                                   |\n",
      "| 0.0927325 | Vladimir Putin receives warm welcome in North Korea | First Thing                                                       |\n",
      "| 0.0927403 | US states invest $300m in Israeli bonds since start of Israel-Hamas war                                                 |\n",
      "| 0.0927729 | Call off the protests on Armistice Day                                                                                  |\n",
      "| 0.0938834 | To a Land Unknown review - Palestinian refugees seek a better life, whatever it takes                                   |\n",
      "| 0.0943615 | 'Jihad' chants can be prosecuted as encouraging terrorism under counter terror legislation                              |\n",
      "| 0.0944303 | US and Saudi Arabia sign $142bn arms deal and Trump confirms meeting with Syrian leader                                 |\n",
      "| 0.0950764 | Trump says he wants 'nothing less than $500m' from Harvard as feud continues                                            |\n",
      "| 0.0955166 | TV tonight: catching the fugitive rapist who faked his own death                                                        |\n",
      "| 0.0957719 | Trial to consider Trump's 'ideological-deportation policy' targeting pro-Palestinian students                           |\n",
      "| 0.0978806 | Ro Khanna calls on Democrats to reclaim identity as 'the anti-war party'                                                |\n",
      "| 0.0979868 | I've seen the UN at its best. As it turns 80, with a world in crisis, it must recover its courage | Martin Griffiths    |\n",
      "| 0.0981135 | Peter Dutton's opponents cast him as a divisive figure. What if they tried the Tim Walz approach instead? | Peter Lewis |\n",
      "| 0.0981217 | 'We'll arrest people quicker at protests from now on': Met police deputy chief                                          |\n",
      "| 0.0986624 | Democrats say they were left in dark about plans for US strikes on Iran                                                 |\n",
      "| 0.0989922 | Many more Galloways will fill the vacuum left by the cowardly mainstream parties                                        |\n",
      "| 0.09974   | One by one, leaders learn that grovelling to Trump leads to disaster. When will it dawn on Starmer? | Simon Tisdall     |\n",
      "\n",
      "\n",
      "\n",
      "### 0.1-0.15 ###\n",
      "|    score | title                                                                                                          |\n",
      "|---------:|:---------------------------------------------------------------------------------------------------------------|\n",
      "| 0.103858 | Treat threats to MPs as terrorist offences, says Priti Patel                                                   |\n",
      "| 0.105339 | 'Petrified' children, dwindling water and a destroyed home: Australian family pleads for help to escape Gaza   |\n",
      "| 0.107089 | Monty Panesar to stand for George Galloway's party at general election                                         |\n",
      "| 0.109629 | First Thing: Kamala Harris introduces VP pick Tim Walz at raucous rally                                        |\n",
      "| 0.110393 | What impact have UK and US strikes had on Red Sea shipping disruption?                                         |\n",
      "| 0.114203 | Pictured: Russians make Mad Max modifications to their motorbikes                                              |\n",
      "| 0.117549 | Where are the US college campus protests and what is happening?                                                |\n",
      "| 0.122174 | US public schools took a stance on Israel-Hamas. The backlash was swift                                        |\n",
      "| 0.122896 | SOAS Palestine Society demands reinstatement of students suspended after rally                                 |\n",
      "| 0.124651 | NSW Greens office targeted with Islamophobic and white supremacist graffiti                                    |\n",
      "| 0.129477 | Trump's Gaza remarks are no surprise: ethnically cleansing was always the plan | Arwa Mahdawi                  |\n",
      "| 0.129555 | Dutton suggests apology for calling Lebanese-Muslim migration a 'mistake' made to 'senior person' in community |\n",
      "| 0.130147 | Why the reaction to Trump's travel ban is different this time                                                  |\n",
      "| 0.131103 | Mute response to war exposes football's complex relationship with geopolitics | Barney Ronay                   |\n",
      "| 0.132728 | UK ban on Palestine Action is an abuse of power, high court told                                               |\n",
      "| 0.134235 | Biden administration uses emergency authority to sell tank shells to Israel                                    |\n",
      "| 0.137494 | 'It can explode at any second': fear at the Israeli market town split between two communities                  |\n",
      "| 0.138486 | Israel is about to discover how revolting the Democratic Left have become                                      |\n",
      "| 0.13865  | 'Serious concerns': UK education row as Israel-Palestine textbooks pulled                                      |\n",
      "| 0.141166 | We must not let politics trample on refugees' human rights | Letters                                           |\n",
      "| 0.141469 | Iran 'using Gaza conflict as cover' for execution of 127 people since war began                                |\n",
      "| 0.14199  | Protesting over Gaza's starvation feels like screaming into a void - but we mustn't stop | Nesrine Malik       |\n",
      "| 0.14306  | First Thing: Nikki Haley to vote for Trump in 2024 election U-turn                                             |\n",
      "| 0.146447 | Prominent Muslim groups claim reaction to Sydney nurses video is 'selective outrage'                           |\n",
      "| 0.148986 | Don't reduce trans debate to 'bodily parts', Nandy tells JK Rowling                                            |\n",
      "\n",
      "\n",
      "\n",
      "### 0.15+ ###\n",
      "|    score | title                                                                                                                                               |\n",
      "|---------:|:----------------------------------------------------------------------------------------------------------------------------------------------------|\n",
      "| 0.159158 | Morning Mail: Vaping questions for GP, UN votes for Gaza ceasefire, Trump's US$279m reprieve                                                        |\n",
      "| 0.184587 | Iran president in helicopter crash, family lawyers quit over burnout, City take Premier League                                                      |\n",
      "| 0.204268 | The shooting of two Israeli embassy staff underscores a US 'era of violent populism'                                                                |\n",
      "| 0.212112 | Labor threatens to cancel visas for 'inciting discord' after protests against Israeli attacks on Lebanon                                            |\n",
      "| 0.222383 | More than 1,000 'distressing' social media posts removed at Australian government's request in 2023                                                 |\n",
      "| 0.223081 | Labour staffer suspended for liking offensive social media post                                                                                     |\n",
      "| 0.228198 | Joe Biden considers going public with frustration over 'a--hole' Benjamin Netanyahu                                                                 |\n",
      "| 0.232283 | Netanyahu rejects calls for immediate inquiry into 7 October security failures                                                                      |\n",
      "| 0.242174 | Jordan Klepper on campus protests: 'You're not going to resolve tension by adding violence'                                                         |\n",
      "| 0.249807 | Isolated abroad, divided at home: now Rafah poses a stark choice for Israel | Dahlia Scheindlin                                                     |\n",
      "| 0.261827 | First Thing: IDF moves more troops into Lebanon after Iranian missile attack on Israel                                                              |\n",
      "| 0.2633   | Stephen Fry is right about anti-Semitism - and the Left is to blame                                                                                 |\n",
      "| 0.287164 | White House seeks to restrain Israel in Gaza amid growing internal dissent                                                                          |\n",
      "| 0.324752 | Anthony Albanese speaks with Netanyahu as protesters occupy Richard Marles' office                                                                  |\n",
      "| 0.348389 | Netanyahu avoids breach with Trump despite no Gaza ceasefire breakthrough                                                                           |\n",
      "| 0.348834 | Australia news live: Richard Marles signals defence cuts; New South Wales braced for deluge                                                         |\n",
      "| 0.359642 | Alexandria Ocasio-Cortez tells pro-Palestine protesters they are 'f---ed up'                                                                        |\n",
      "| 0.362456 | Israel kills seven more Hezbollah fighters on border with Lebanon                                                                                   |\n",
      "| 0.383815 | IDF soldiers will 'in no circumstances' enter Hamas tunnels, says ex-military chief                                                                 |\n",
      "| 0.400551 | Arrest of Palestinian student activist raises alarm about free speech - US politics live                                                            |\n",
      "| 0.402596 | Kamala Harris says 'I will not be silent' on suffering in Gaza after Netanyahu talks                                                                |\n",
      "| 0.488653 | US imposes sanctions on Palestinians for requesting war crimes investigation                                                                        |\n",
      "| 0.530526 | Afternoon Update: Asio urges all parties to tone it down on Middle East; UN staff among those killed in Gaza; and factchecking voice misinformation |\n",
      "| 0.546115 | At last the UN is waking up to Hamas's crimes                                                                                                       |\n",
      "| 0.585251 | Killing of Hamas leader may provoke Islamic terror attacks in UK, warns MI6 chief                                                                   |\n",
      "\n",
      "\n",
      "\n"
     ]
    },
    {
     "name": "stderr",
     "output_type": "stream",
     "text": [
      "/tmp/ipykernel_39194/3335913764.py:18: FutureWarning: The default of observed=False is deprecated and will be changed to True in a future version of pandas. Pass observed=False to retain current behavior or observed=True to adopt the future default and silence this warning.\n",
      "  for label, group in relevance_scoring.groupby(\"binned\"):\n"
     ]
    }
   ],
   "source": [
    "# Cut into 0, 0.02, 0.04, 0.06, 0.08, 0.09, 0.1, 0.1+\n",
    "relevance_scoring[\"binned\"] = pd.cut(\n",
    "    relevance_scoring[\"score\"],\n",
    "    bins=[-0.01, 0.05, 0.06, 0.07, 0.08, 0.09, 0.1, 0.15, 1],\n",
    "    labels=[\n",
    "        \"0-0.05\",\n",
    "        \"0.05-0.06\",\n",
    "        \"0.06-0.07\",\n",
    "        \"0.07-0.08\",\n",
    "        \"0.08-0.09\",\n",
    "        \"0.09-0.1\",\n",
    "        \"0.1-0.15\",\n",
    "        \"0.15+\",\n",
    "    ],\n",
    ")\n",
    "\n",
    "# Sample five from each bin\n",
    "for label, group in relevance_scoring.groupby(\"binned\"):\n",
    "    print(f\"### {label} ###\")\n",
    "    print(\n",
    "        group.sample(25, random_state=123)[[\"score\", \"title\"]]\n",
    "        .sort_values(by=\"score\", ascending=True)\n",
    "        .to_markdown(index=False)\n",
    "    )\n",
    "    print(\"\\n\\n\")"
   ]
  },
  {
   "cell_type": "markdown",
   "id": "5c41f548",
   "metadata": {},
   "source": [
    "Looking at the articles, we can see that a cut-off of 0.093 seems to be reasonable, as we start getting relevant articles from that point onwards. Below that, the articles are mostly not relevant.\n",
    "\n",
    "It also neatly matches a change in the distribution."
   ]
  },
  {
   "cell_type": "code",
   "execution_count": 33,
   "id": "266b3d93",
   "metadata": {},
   "outputs": [
    {
     "data": {
      "text/plain": [
       "<matplotlib.lines.Line2D at 0x7f60acbb7d90>"
      ]
     },
     "execution_count": 33,
     "metadata": {},
     "output_type": "execute_result"
    },
    {
     "data": {
      "image/png": "[encoded data removed]",
      "text/plain": [
       "<Figure size 1400x400 with 1 Axes>"
      ]
     },
     "metadata": {},
     "output_type": "display_data"
    }
   ],
   "source": [
    "import matplotlib.pyplot as plt\n",
    "\n",
    "fig, ax = plt.subplots(figsize=(14, 4))\n",
    "relevance_scoring[\"score\"].hist(bins=200, ax=ax)\n",
    "\n",
    "ax.axvline(x=0.093, color=\"red\", linestyle=\"--\")"
   ]
  },
  {
   "cell_type": "code",
   "execution_count": 34,
   "id": "1451f8b1",
   "metadata": {},
   "outputs": [
    {
     "name": "stdout",
     "output_type": "stream",
     "text": [
      "Length before filtering: 9903\n",
      "Length after filtering: 7342\n"
     ]
    }
   ],
   "source": [
    "articles[\"relevance_score\"] = articles[\"uri\"].map(relevance_scoring[\"score\"])\n",
    "\n",
    "print(f\"Length before filtering: {len(articles)}\")\n",
    "articles = articles[articles.relevance_score >= 0.093]\n",
    "print(f\"Length after filtering: {len(articles)}\")"
   ]
  },
  {
   "cell_type": "markdown",
   "id": "23d4c54c",
   "metadata": {},
   "source": [
    "# Saving"
   ]
  },
  {
   "cell_type": "code",
   "execution_count": 37,
   "id": "da04c905",
   "metadata": {},
   "outputs": [],
   "source": [
    "# Write back raw filtered data\n",
    "\n",
    "with open(\"data/newsapi/uk_2_year_filtered.json\", \"w\") as f:\n",
    "    filtered_articles = [i for i in source_data if i[\"uri\"] in articles[\"uri\"].values]\n",
    "    json.dump(filtered_articles, f, ensure_ascii=False, indent=4)"
   ]
  },
  {
   "cell_type": "code",
   "execution_count": null,
   "id": "39dbf9ab",
   "metadata": {},
   "outputs": [],
   "source": [
    "# Preparing prompt for quote extraction\n",
    "from prep_for_llm import create_request\n",
    "\n",
    "PROMPT = \"\"\"\n",
    "Extract quotes from the following article and return as structured JSON using the following fields.\n",
    "    name: The full name of the person being quoted\n",
    "            - If the person is a spokesperson for an organisation, leave blank and set organisation to the organisation they represent.\n",
    "            - If the person is a spokesperson for a public figure, set the name as that of the public figure and set organisation to the organisation they represent.\n",
    "            - Do not use a person's first or last name only, unless they are only referred to that way in the article.\n",
    "            - Even then, if they are famous (e.g., \"Donald Trump\", \"Joe Biden\"), always use their full name.\n",
    "    organisation: The organisation represented by the speaker, \n",
    "                  - Use the full name of the organisation rather than just the acronym.\n",
    "    role: The speaker's position within that organisation, if given in the article.\n",
    "    nationality: The nationality of the speaker, if known, as a 3-letter country code e.g. USA, GBR, ISR, PLE.\n",
    "                    - Return an empty string if unknown.\n",
    "                    - If the quote is from an organisation, infer nationality where possible:\n",
    "                        - This may be from the name (e.g., \"Scotland Yard\" -> \"GBR\")\n",
    "                        - Or context, for example a political party or health ministry will be from the country it is based in.\n",
    "    quote: The text of the quote, if the quote breaks across the sentence, merge it into on single quote,\n",
    "    message: A summary of the quote, written so that it can be understood out of context. \n",
    "             Do not include the speaker in the message, reproduce as if it was being spoken directly.\n",
    "             Ensure that the message can be understood independently of the article, and that all subjects of the message are clear. \n",
    "                For example:\n",
    "                    - do just not say \"I agree with the government's decision\", say \"I agree with the German government's decision to increase funding for healthcare\".\n",
    "                    - do not just say \"The report is very important\", say \"The report, published by Greenpeace, which is about climate change, is very important\".\n",
    "\n",
    "There may be several or no quotes in the article, please ensure that you return all quotes. One speaker may have several quotes.\n",
    "\n",
    "Include direct quotes only, do not include paraphrased quotes.\n",
    "\n",
    "Here is the article:\n",
    "\"\"\"\n",
    "\n",
    "requests = []\n",
    "for record in filtered_articles:\n",
    "    requests.append(create_request(record, prompt=PROMPT))\n",
    "\n",
    "# Write as jsonl\n",
    "with open(\"data/newsapi/uk_2_year_filtered_for_llm.jsonl\", \"w\") as f:\n",
    "    for req in requests:\n",
    "        f.write(json.dumps(req) + \"\\n\")"
   ]
  },
  {
   "cell_type": "code",
   "execution_count": 39,
   "id": "89cee935",
   "metadata": {},
   "outputs": [
    {
     "data": {
      "text/plain": [
       "{'key': '8896771534',\n",
       " 'request': {'contents': [{'role': 'user',\n",
       "    'parts': [{'text': '\\nExtract quotes from the following article and return as structured JSON using the following fields.\\n    name: The full name of the person or organisation being quoted,\\n            - Do not use a person\\'s first or last name only, unless they are only referred to that way in the article.\\n            - Even then, if they are famous (e.g., \"Donald Trump\", \"Joe Biden\"), always use their full name.\\n    organisation: The organisation represented by the speaker, \\n                  - Use the full name of the organisation rather than just the acronym.\\n    role: The speaker\\'s position within that organisation, if given in the article.\\n    nationality: The nationality of the speaker, if known, as a 3-letter country code e.g. USA, GBR, ISR, PLE.\\n                 Return an empty string if unknown.\\n    quote: The text of the quote, if the quote breaks across the sentence, merge it into on single quote,\\n    message: A summary of the quote, written so that it can be understood out of context. \\n             Do not include the speaker in the message, reproduce as if it was being spoken directly.\\n             Ensure that the message can be understood independently of the article, and that all subjects of the message are clear. \\n                For example:\\n                    - do just not say \"I agree with the government\\'s decision\", say \"I agree with the German government\\'s decision to increase funding for healthcare\".\\n                    - do not just say \"The report is very important\", say \"The report, published by Greenpeace, which is about climate change, is very important\".\\n\\nThere may be several or no quotes in the article, please ensure that you return all quotes. One speaker may have several quotes.\\n\\nInclude direct quotes only, do not include paraphrased quotes.\\n\\nHere is the article:\\n<article>Donald Trump\\'s proposals are in play, but here in the West Bank we live in fear that the devastation of Gaza is coming our way\\n\\nBeing an eternal optimist, I hoped that the events of 7 October 2023 - Hamas\\'s attack on southern Israel and breaking of the Israeli siege of Gaza - might precipitate a reappraisal of Israeli strategy towards the Palestinians. I hoped Israeli leaders would come to realise the futility of protecting their country by building walls, however impregnable.\\n\\nInstead, the attack did the opposite. It led to a war of revenge that has now lasted for close to two years, killing more than 65,000 Palestinians and causing the widespread devastation of Gaza, including destroying 92% of its residential buildings. Initially, I was shocked by this, and the dehumanisation of the people of Gaza which immediately came from Israeli leaders - Yoav Gallant, who was defence minister at the time of the attack, justified the war by declaring: \"We are fighting human animals and are acting accordingly.\"\\n\\nI should not have been surprised. For many years, the army has been using similar tactics and language against Palestinians. In April 1983, the Israeli army chief of staff Rafael Eitan likened Palestinians in the West Bank to \"drugged cockroaches in a bottle\". Throughout the years of Israeli occupation, house demolitions have also been used as a supposed deterrence as well as shooting innocent people caught in army raids. The walls and checkpoints restricting contact between Israelis and Palestinians pushed the two sides further apart, making it possible to demonise each other even further. Even the ethnic cleansing which Israel is attempting in Gaza is not without precedent. In the 1948 Palestine war, more than 700,000 Palestinian Arabs were expelled or fled from their homes, and Israel\\'s military carried out dozens of massacres targeting them.\\n\\nYet the intensity of the atrocities committed by the Israeli army in Gaza since 7 October has been on a different scale to anything that has happened previously. On the West Bank, we have no previous experience of what it would mean to live next to a state committing genocide against our people and the widespread tolerance of the Israeli people of these actions. We watch in horror what is taking place in Gaza, and also with trepidation. We wonder when our turn will come for the kind of attacks from the air that Gaza has been subjected to.\\n\\nConfined as we are by hundreds of checkpoints and gates to our small enclave of Ramallah, we have been subjected to repeated attacks by Israeli settlers and the army inside the city itself, which, according to the Oslo accords of 1995, is supposed to be under the full control of the Palestinian Authority and its security force.\\n\\nIt is a constant source of pain to witness more of our land being colonised. The hills around Ramallah are becoming more militarised, with settlers\\' outposts being built on high grounds and masked settlers brandishing machine guns roaming the hills, ready to attack anyone daring to take a walk. The sense of danger when venturing to these areas has been heightened.\\n\\nIn August this year, the head of the Israeli army\\'s central command, Avi Bluth, ordered the felling of around 3,000 olive trees in the village of Al-Mughayyir, in Ramallah, which would have soon been ripe for the autumn harvest. For decades the Israeli military has uprooted olive trees - an important cultural symbol and source of income for Palestinians. The justification for this felling was the claim that the trees posed a \"security threat\" to a main Israeli settlement road that runs through the village lands. And this week, with the start of the olive-picking season, settler attacks are beginning - as happened last Friday in the village of Farkha south-west of the city of Salfit.\\n\\nSoldiers also imposed a siege on Al-Mughayyir and stormed homes there. Bluth explained: \"The first mission is to hunt [the assailant] ... The second is to carry out shaping operations here, and to ensure that everyone is deterred - not only this village, but every village that tries to raise a hand against the residents [settlers].\"\\n\\nIn the past, when confronted with such human rights violations our hope was that we could win some reprieve through the efforts of Al-Haq, the organisation I helped establish 45 years ago. I could never have imagined that it would be sanctioned and prevented from providing the services to our community. We Palestinian have always expected disproportionate repression to our efforts to secure our rights. But the brazenness of this move, combined with its dramatic implications for those in Europe and the United States standing with us, should be a wake-up call for everyone.\\n\\nI never expected that it would be destroyed by none other than the one-time champion of human rights, the United States of America. It had long been an ambition of mine that the organisation would find a route to prosecuting Israel for its violations. I could not have predicted that helping the international criminal court would be deemed a fatal offence .\\n\\nIn August, the Israeli government gave final approval for the controversial E1 extension of a settlement project which would effectively fragment Palestinian lands, link thousands of illegal settlements in occupied East Jerusalem to the Ma\\'ale Adumim settlement bloc, and undermine the viability of a future Palestinian state by ending any chance of a contiguous Palestinian territory.\\n\\nThe international community\\'s response has been mixed. Citizens in European countries are realising that, should Israel continue to get away with its repeated infringement of international law, this would contribute to the destruction of the rules-based world order. This has motivated many protest groups to indicate their opposition to Israel\\'s policies against Palestinians. Most recently, hundreds of activists from 44 countries were intercepted on the Freedom Flotilla after setting sail with the intention of breaking the Israeli blockade of the Gaza Strip and delivering aid. However, even with more citizens taking action, their governments remain lethargic, pronouncing tepid criticism of Israel\\'s actions while continuing to support the state\\'s war effort.\\n\\nYet, despite this disappointing institutional response, the war in Gaza has led to significant changes in the way Israel is perceived worldwide. The fact that the country came into being through the violent displacement of Palestinians in the 1948 Nakba has become better understood. So many misconceptions about Israel\\'s foundation propagated over the past 77 years are being exposed. This has also led to a significant shift in willingness to platform Palestinian voices in spaces which were closed to them in the past.\\n\\nFollowing Donald Trump\\'s proposed \"Gaza peace plan\", Hamas has approved the release of all \"prisoners of the occupation\" and signalled its \"readiness to enter into negotiations\". Consequently, Trump has ordered Israel to immediately stop bombing Gaza. If the war were to end and the siege on Gaza were to be lifted, Palestinians have the expertise to rebuild their country. They have the engineers, workers and technicians with decades of experience of working under siege. If they are given access to machinery they could rebuild faster than any external contractor.\\n\\nThere is no doubt about the Israeli army\\'s fighting capabilities. But Israel must choose between perpetual war or living in peace. This can only happen if the country recognises Palestinian self-determination - a prospect that, at present, seems remote. At the culmination of this war, Israel might end up destroying Gaza, but it will also destroy itself.</article>'}]}]},\n",
       " 'generationConfig': \"{'responseMimeType': 'application/json', 'responseSchema': {'description': 'A list of quotes extracted from the article', 'type': 'array', 'items': {'type': 'object', 'properties': {'name': {'type': 'string'}, 'organisation': {'type': 'string'}, 'role': {'type': 'string'}, 'nationality': {'type': 'string'}, 'quote': {'type': 'string'}, 'message': {'type': 'string'}}, 'required': ['name', 'organisation', 'role', 'nationality', 'quote', 'message']}}, 'temperature': 0}\"}"
      ]
     },
     "execution_count": 39,
     "metadata": {},
     "output_type": "execute_result"
    }
   ],
   "source": []
  }
 ],
 "metadata": {
  "kernelspec": {
   "display_name": "base (3.13.5)",
   "language": "python",
   "name": "python3"
  },
  "language_info": {
   "codemirror_mode": {
    "name": "ipython",
    "version": 3
   },
   "file_extension": ".py",
   "mimetype": "text/x-python",
   "name": "python",
   "nbconvert_exporter": "python",
   "pygments_lexer": "ipython3",
   "version": "3.13.5"
  }
 },
 "nbformat": 4,
 "nbformat_minor": 5
}
