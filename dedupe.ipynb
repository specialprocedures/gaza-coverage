{
 "cells": [
  {
   "cell_type": "markdown",
   "id": "32d28006",
   "metadata": {},
   "source": [
    "# Introduction\n",
    "\n",
    "## Goals\n",
    "\n",
    "- Parse LLM-generated JSON\n",
    "- Deduplicate names and organisations\n",
    "- Load data to SQLite for storage and analysis"
   ]
  },
  {
   "cell_type": "code",
   "execution_count": 127,
   "id": "8fd515c1",
   "metadata": {},
   "outputs": [
    {
     "name": "stdout",
     "output_type": "stream",
     "text": [
      "Failed to parse JSON for 8149592363\n",
      "{'success': 7123, 'repaired': 218, 'failed': 1}\n",
      "Failed records: [('8149592363', 'The provided article is a first-person narrative where the author\\'s name is not explicitly stated within the text. The instructions for the `name` field specify \"The full name of the person or organisation being quoted\". Since the author\\'s name is not present in the article, and no other individuals or organizations are directly quoted by name, no quotes can be extracted that fully meet the specified criteria.')]\n"
     ]
    }
   ],
   "source": [
    "import json\n",
    "from json_repair import repair_json\n",
    "import pandas as pd\n",
    "\n",
    "# Load in the json from Vertex\n",
    "with open(\"data/quotes/2_year.jsonl\", \"r\") as f:\n",
    "    quotes = [json.loads(line) for line in f]\n",
    "\n",
    "# The quotes are stored on a per-article basis, we iterate over and parse the json\n",
    "all_quotes = []\n",
    "\n",
    "# Setup tracking for parsing\n",
    "parse_tracker = {\n",
    "    \"success\": 0,\n",
    "    \"repaired\": 0,\n",
    "    \"failed\": 0,\n",
    "}\n",
    "\n",
    "failed_records = []\n",
    "\n",
    "for n, quote in enumerate(quotes):\n",
    "\n",
    "    # Get id and the json string to parse\n",
    "    idx = quote[\"key\"]\n",
    "    quote_string = quote[\"response\"][\"candidates\"][0][\"content\"][\"parts\"][0][\n",
    "        \"text\"\n",
    "    ].strip()\n",
    "\n",
    "    # There's inconsistent formatting, sometimes strings are wrapped in markdown\n",
    "    if quote_string.startswith(\"```json\"):\n",
    "        quote_string = quote_string.replace(\"```json\", \"\").replace(\"```\", \"\")\n",
    "\n",
    "    # Give it an initial try with standard json parsing\n",
    "    try:\n",
    "        quote_list = json.loads(quote_string)\n",
    "        parse_tracker[\"success\"] += 1\n",
    "\n",
    "    # If that doesn't work, we try the `repair_json` library\n",
    "    except:\n",
    "        quote_string_repaired = repair_json(quote_string)\n",
    "        try:\n",
    "            quote_list = json.loads(quote_string_repaired)\n",
    "            parse_tracker[\"repaired\"] += 1\n",
    "\n",
    "        # if that doesn't work, we give up\n",
    "        except:\n",
    "            quote_list = []\n",
    "            print(f\"Failed to parse JSON for {idx}\")\n",
    "            parse_tracker[\"failed\"] += 1\n",
    "            failed_records.append((idx, quote_string))\n",
    "\n",
    "    # Bosh it into the quote list\n",
    "    for q in quote_list:\n",
    "        d = {\"uri\": idx, **q}\n",
    "        all_quotes.append(d)\n",
    "\n",
    "# Print parsing statistics\n",
    "print(parse_tracker)\n",
    "\n",
    "# Check failed records\n",
    "print(f\"Failed records: {failed_records}\")\n",
    "\n",
    "# Track length for later\n",
    "initial_len = len(all_quotes)\n",
    "dropped_rows = 0"
   ]
  },
  {
   "cell_type": "code",
   "execution_count": 128,
   "id": "f5967d6c",
   "metadata": {},
   "outputs": [
    {
     "data": {
      "application/vnd.jupyter.widget-view+json": {
       "model_id": "f1061fbe25bb4bb48ee42406f3245e2e",
       "version_major": 2,
       "version_minor": 0
      },
      "text/plain": [
       "Fetching 5 files:   0%|          | 0/5 [00:00<?, ?it/s]"
      ]
     },
     "metadata": {},
     "output_type": "display_data"
    },
    {
     "name": "stderr",
     "output_type": "stream",
     "text": [
      "/home/ian/.envs/base/lib/python3.13/site-packages/transformers/convert_slow_tokenizer.py:559: UserWarning: The sentencepiece tokenizer that you are converting to a fast tokenizer uses the byte fallback option which is not implemented in the fast tokenizers. In practice this means that the fast version of the tokenizer can produce unknown tokens whereas the sentencepiece version would have converted these unknown tokens into a sequence of byte tokens matching the original piece of text.\n",
      "  warnings.warn(\n"
     ]
    }
   ],
   "source": [
    "import re\n",
    "from gliner import GLiNER\n",
    "from tqdm import tqdm\n",
    "\n",
    "ner_model = GLiNER.from_pretrained(\"urchade/gliner_medium-v2.1\")\n",
    "\n",
    "ner_model.to(\"cuda\")\n",
    "\n",
    "\n",
    "def is_multirecord(x):\n",
    "    \"\"\"Check if name looks like multiple names, e.g., \"Alice and Bob\", \"Alice, Bob, and Charlie\" \"\"\"\n",
    "    if pd.isna(x):\n",
    "        return False\n",
    "    if \" and \" in x or \", \" in x:\n",
    "        return True\n",
    "    return False\n",
    "\n",
    "\n",
    "def get_multirecord_entities(x, threshold=0.7):\n",
    "    entities = ner_model.predict_entities(\n",
    "        x, labels=[\"person\", \"organisation\", \"country\"], threshold=threshold\n",
    "    )\n",
    "    if len(entities) <= 1:\n",
    "        return None\n",
    "    else:\n",
    "        return entities"
   ]
  },
  {
   "cell_type": "code",
   "execution_count": 129,
   "id": "664b0497",
   "metadata": {},
   "outputs": [
    {
     "name": "stderr",
     "output_type": "stream",
     "text": [
      "Asking to truncate to max_length but no maximum length is provided and the model has no predefined maximum length. Default to no truncation.\n"
     ]
    },
    {
     "name": "stdout",
     "output_type": "stream",
     "text": [
      "Dropped 287 rows, new total is 48663\n"
     ]
    }
   ],
   "source": [
    "new_record_count = 0\n",
    "all_new_records = []\n",
    "for quote in all_quotes:\n",
    "    # Split names\n",
    "    if is_multirecord(quote.get(\"name\")):\n",
    "        # Get the individual names using NER\n",
    "        entities = get_multirecord_entities(quote.get(\"name\"), threshold=0.75)\n",
    "        if not entities:\n",
    "            continue\n",
    "\n",
    "        new_records = []\n",
    "        for entity in entities:\n",
    "            new_record = quote.copy()\n",
    "\n",
    "            if entity[\"label\"] == \"organisation\" or entity[\"label\"] == \"country\":\n",
    "                new_record[\"organisation\"] = entity[\"text\"]\n",
    "                new_record[\"name\"] = None\n",
    "\n",
    "            elif entity[\"label\"] == \"person\":\n",
    "                new_record[\"name\"] = entity[\"text\"]\n",
    "\n",
    "            new_record[\"name\"] = entity[\"text\"]\n",
    "            new_records.append(new_record)\n",
    "            all_new_records.append(new_record)\n",
    "            new_record_count += 1\n",
    "\n",
    "        all_quotes.extend(new_records)\n",
    "        quote[\"drop\"] = True\n",
    "\n",
    "# Drop the original multi-record entries\n",
    "all_quotes = [q for q in all_quotes if not q.get(\"drop\", False)]\n",
    "\n",
    "dropped_rows += initial_len + new_record_count - len(all_quotes)\n",
    "print(f\"Dropped {dropped_rows} rows, new total is {len(all_quotes)}\")"
   ]
  },
  {
   "cell_type": "code",
   "execution_count": 130,
   "id": "a4cd2dff",
   "metadata": {},
   "outputs": [],
   "source": [
    "# Load into pandas\n",
    "quotes = (\n",
    "    pd.json_normalize(all_quotes)\n",
    "    .reset_index()\n",
    "    .rename(\n",
    "        columns={\"index\": \"quote_id\", \"organisation\": \"org\", \"nationality\": \"nation\"}\n",
    "    )\n",
    ")\n",
    "# Empty records are strings\n",
    "quotes.replace(\"\", pd.NA, inplace=True)"
   ]
  },
  {
   "cell_type": "markdown",
   "id": "9b38e898",
   "metadata": {},
   "source": [
    "# Cleaning"
   ]
  },
  {
   "cell_type": "markdown",
   "id": "674c0c30",
   "metadata": {},
   "source": [
    "## Cleaning broken JSON\n",
    "A small subset of the json records do not parse properly. Examining the columns, we can see that "
   ]
  },
  {
   "cell_type": "code",
   "execution_count": 131,
   "id": "3e8bfd3f",
   "metadata": {},
   "outputs": [],
   "source": [
    "CORE_COLS = [\n",
    "    \"quote_id\",\n",
    "    \"uri\",\n",
    "    \"name\",\n",
    "    \"org\",\n",
    "    \"role\",\n",
    "    \"nation\",\n",
    "    \"quote\",\n",
    "    \"message\",\n",
    "]\n",
    "\n",
    "ID_COLS = [\"name\", \"org\", \"role\", \"nation\"]\n",
    "\n",
    "dud_cols = [c for c in quotes.columns if c not in CORE_COLS]"
   ]
  },
  {
   "cell_type": "code",
   "execution_count": 132,
   "id": "257324ea",
   "metadata": {},
   "outputs": [
    {
     "name": "stdout",
     "output_type": "stream",
     "text": [
      "There are 21 bad records\n",
      "\n",
      "-----------\n"
     ]
    }
   ],
   "source": [
    "len_duds = quotes[dud_cols].notnull().any(axis=1).sum()\n",
    "print(f\"There are {len_duds} bad records\")\n",
    "\n",
    "print(\"\\n-----------\")"
   ]
  },
  {
   "cell_type": "markdown",
   "id": "220454be",
   "metadata": {},
   "source": [
    "Names are easy to fix"
   ]
  },
  {
   "cell_type": "code",
   "execution_count": 133,
   "id": "f43ca408",
   "metadata": {},
   "outputs": [
    {
     "name": "stdout",
     "output_type": "stream",
     "text": [
      "Fixed 8 name records\n"
     ]
    }
   ],
   "source": [
    "name_duds = [i for i in dud_cols if '\"name' in i]\n",
    "\n",
    "name_vals = quotes[name_duds].notnull().any(axis=1).sum()\n",
    "\n",
    "# Make sure name is dropped in and clear out the dud col\n",
    "for col in name_duds:\n",
    "    quotes[\"name\"] = quotes[\"name\"].fillna(quotes[col])\n",
    "    quotes[col] = pd.NA\n",
    "\n",
    "print(f\"Fixed {name_vals} name records\")"
   ]
  },
  {
   "cell_type": "markdown",
   "id": "15f6a4e6",
   "metadata": {},
   "source": [
    "The others are more complicated, mixing quotes and messages. I figure there's not many of them and drop them."
   ]
  },
  {
   "cell_type": "code",
   "execution_count": 134,
   "id": "79e26a71",
   "metadata": {},
   "outputs": [
    {
     "name": "stdout",
     "output_type": "stream",
     "text": [
      "Dropped 13 failed records\n"
     ]
    }
   ],
   "source": [
    "duds = quotes[dud_cols].notnull().any(axis=1)\n",
    "print(f\"Dropped {duds.sum()} failed records\")\n",
    "\n",
    "quotes = quotes[~duds]\n",
    "\n",
    "# Keeping track, as we'll lose a few more later\n",
    "dropped_rows += duds.sum()"
   ]
  },
  {
   "cell_type": "code",
   "execution_count": 135,
   "id": "16735fc3",
   "metadata": {},
   "outputs": [
    {
     "name": "stdout",
     "output_type": "stream",
     "text": [
      "Dropping 59 rows with no core info\n",
      "359 of 48159 (0.75%) dropped due to bad data\n"
     ]
    }
   ],
   "source": [
    "dud_rows = quotes[quotes[ID_COLS].isna().all(axis=1)]\n",
    "\n",
    "print(f\"Dropping {len(dud_rows)} rows with no core info\")\n",
    "quotes = quotes[~quotes.index.isin(dud_rows.index)]\n",
    "\n",
    "# Keep track of dropped rows\n",
    "dropped_rows += len(dud_rows)\n",
    "\n",
    "print(\n",
    "    f\"{dropped_rows} of {initial_len} ({dropped_rows / initial_len:.2%}) dropped due to bad data\"\n",
    ")"
   ]
  },
  {
   "cell_type": "code",
   "execution_count": 136,
   "id": "b19262ef",
   "metadata": {},
   "outputs": [
    {
     "name": "stdout",
     "output_type": "stream",
     "text": [
      "Unique counts before initial clean:\n",
      "name      11905\n",
      "org        4506\n",
      "role       6073\n",
      "nation      126\n",
      "dtype: int64\n",
      "\n",
      "\n",
      "Unique rows: 19057\n"
     ]
    }
   ],
   "source": [
    "print(\"Unique counts before initial clean:\")\n",
    "print(quotes[ID_COLS].nunique())\n",
    "\n",
    "print(\"\\n\")\n",
    "print(f\"Unique rows: {len(quotes.drop_duplicates(subset=ID_COLS))}\")"
   ]
  },
  {
   "cell_type": "code",
   "execution_count": 137,
   "id": "0e7f9468",
   "metadata": {},
   "outputs": [
    {
     "data": {
      "image/png": "[encoded data removed]",
      "text/plain": [
       "<Figure size 1200x800 with 4 Axes>"
      ]
     },
     "metadata": {},
     "output_type": "display_data"
    }
   ],
   "source": [
    "import matplotlib.pyplot as plt\n",
    "\n",
    "fig, ax = plt.subplots(2, 2, figsize=(12, 8))\n",
    "\n",
    "for col, a in zip(ID_COLS, ax.flatten()):\n",
    "    quotes[col].value_counts().reset_index()[\"count\"].hist(bins=100, ax=a)\n",
    "    a.set_title(col)\n",
    "    a.set_yscale(\"log\")\n",
    "    a.set_xlabel(\"\")\n",
    "    a.set_ylabel(\"Number of unique values\")"
   ]
  },
  {
   "cell_type": "markdown",
   "id": "7e1c589b",
   "metadata": {},
   "source": [
    "## Generate spokes table\n",
    "I leave the quotes to one side and create a table with unique values only to operate on.\n",
    "\n",
    "This is better for performance (i.e., named entity recognition), kicks off the deduplication process with our initial sets, and preserves the original columns in a separate dataframe during deduplication process.\n"
   ]
  },
  {
   "cell_type": "code",
   "execution_count": 138,
   "id": "5a5ce89a",
   "metadata": {},
   "outputs": [],
   "source": [
    "import hashlib\n",
    "\n",
    "# Generate a spoke id for each unique combination of the ID cols\n",
    "quick_hash = lambda x: hashlib.md5(x.encode(\"utf-8\")).hexdigest()\n",
    "quotes[\"address\"] = quotes.apply(\n",
    "    lambda row: \", \".join([str(row[col]) for col in ID_COLS if pd.notna(row[col])]),\n",
    "    axis=1,\n",
    ")\n",
    "quotes[\"spoke_id\"] = quotes.apply(lambda row: quick_hash(row[\"address\"]), axis=1)\n",
    "\n",
    "# Create spokes table with counts of occurrences in the quotes df\n",
    "spokes = (\n",
    "    quotes[[\"spoke_id\", \"name\", \"org\", \"role\", \"nation\", \"address\"]]\n",
    "    .value_counts(dropna=False)\n",
    "    .reset_index()\n",
    ")"
   ]
  },
  {
   "cell_type": "markdown",
   "id": "326b8951",
   "metadata": {},
   "source": [
    "## Normalising text"
   ]
  },
  {
   "cell_type": "code",
   "execution_count": 139,
   "id": "7ba41377",
   "metadata": {},
   "outputs": [
    {
     "name": "stderr",
     "output_type": "stream",
     "text": [
      "[nltk_data] Downloading package stopwords to /home/ian/nltk_data...\n",
      "[nltk_data]   Package stopwords is already up-to-date!\n"
     ]
    }
   ],
   "source": [
    "from cleantext import clean\n",
    "from nltk.corpus import stopwords\n",
    "import nltk\n",
    "import re\n",
    "\n",
    "nltk.download(\"stopwords\")\n",
    "STOP_WORDS = set(stopwords.words(\"english\"))\n",
    "\n",
    "\n",
    "def clean_capitals(text):\n",
    "\n",
    "    if isinstance(text, str):\n",
    "        chunks = [i.strip() for i in text.split(\" \")]\n",
    "        out = []\n",
    "        for n, chunk in enumerate(chunks):\n",
    "            num_caps = sum(1 for c in chunk if c.isupper())\n",
    "            if chunk in STOP_WORDS and n != 0:\n",
    "                out.append(chunk)\n",
    "            elif num_caps >= 2:\n",
    "                out.append(chunk)\n",
    "            else:\n",
    "                out.append(chunk.capitalize())\n",
    "\n",
    "        return \" \".join(out)\n",
    "\n",
    "\n",
    "def drop_punct(text):\n",
    "    \"\"\"Drops a limited number of non-alpha characters from a string.\n",
    "\n",
    "    Intended to be used on names of people and organisations.\n",
    "\n",
    "    Specifically, by default, this function removes full-stops, hyphens and\n",
    "    quotation marks, common\n",
    "\n",
    "    Args:\n",
    "        text (_type_): _description_\n",
    "\n",
    "    Returns:\n",
    "        _type_: _description_\n",
    "    \"\"\"\n",
    "    if isinstance(text, str):\n",
    "        text = text.replace(\".\", \"\").replace(\"-\", \" \").replace('\"', \"\")\n",
    "        return text\n",
    "\n",
    "\n",
    "def drop_articles(\n",
    "    text,\n",
    "    articles=[\n",
    "        \"the\",\n",
    "        \"a\",\n",
    "        \"an\",\n",
    "        \"one of the\",\n",
    "        \"one of\",\n",
    "        \"one\",\n",
    "        \"another\",\n",
    "        \"anonymous\",\n",
    "    ],\n",
    "):\n",
    "    \"\"\"Removes articles from the start of words.\n",
    "\n",
    "    Args:\n",
    "        text (_type_): _description_\n",
    "\n",
    "    Returns:\n",
    "        _type_: _description_\n",
    "    \"\"\"\n",
    "\n",
    "    if isinstance(text, str):\n",
    "        # try longest articles first (e.g., \"one of the\" before \"one\")\n",
    "        for art in articles:\n",
    "            pat = re.compile(r\"^\" + re.escape(art) + r\" \", flags=re.IGNORECASE)\n",
    "            new_text = pat.sub(\"\", text, count=1)\n",
    "            if new_text != text:\n",
    "                return new_text\n",
    "        return text\n",
    "\n",
    "\n",
    "for col in [\"name\", \"org\", \"role\"]:\n",
    "    spokes[col] = (\n",
    "        spokes[col]\n",
    "        .str.strip()\n",
    "        .fillna(\"\")\n",
    "        .apply(lambda x: clean(x, fix_unicode=True, to_ascii=True, lower=False).strip())\n",
    "        .apply(lambda x: drop_articles(x))  # basic articles\n",
    "        .apply(lambda x: drop_punct(x))\n",
    "        .apply(lambda x: drop_articles(x))  # titles\n",
    "        .apply(lambda x: clean_capitals(x))\n",
    "        .str.strip()\n",
    "        .replace(\"\", pd.NA)\n",
    "    )"
   ]
  },
  {
   "cell_type": "markdown",
   "id": "56ca42d2",
   "metadata": {},
   "source": [
    "## Missing records"
   ]
  },
  {
   "cell_type": "markdown",
   "id": "f72a3707",
   "metadata": {},
   "source": [
    "### All identifying columns"
   ]
  },
  {
   "cell_type": "code",
   "execution_count": 140,
   "id": "77d161b1",
   "metadata": {},
   "outputs": [
    {
     "data": {
      "application/vnd.microsoft.datawrangler.viewer.v0+json": {
       "columns": [
        {
         "name": "index",
         "rawType": "object",
         "type": "string"
        },
        {
         "name": "0",
         "rawType": "int64",
         "type": "integer"
        }
       ],
       "ref": "c930ebc9-7811-4481-9ef2-089ed33ea2c8",
       "rows": [
        [
         "name",
         "82"
        ],
        [
         "org",
         "5234"
        ],
        [
         "role",
         "5215"
        ],
        [
         "nation",
         "8482"
        ]
       ],
       "shape": {
        "columns": 1,
        "rows": 4
       }
      },
      "text/plain": [
       "name        82\n",
       "org       5234\n",
       "role      5215\n",
       "nation    8482\n",
       "dtype: int64"
      ]
     },
     "execution_count": 140,
     "metadata": {},
     "output_type": "execute_result"
    }
   ],
   "source": [
    "spokes[ID_COLS].isna().sum()"
   ]
  },
  {
   "cell_type": "markdown",
   "id": "f6698560",
   "metadata": {},
   "source": [
    "We should never have only role. Seeing as many names are roles, we can fill names that way."
   ]
  },
  {
   "cell_type": "code",
   "execution_count": 141,
   "id": "94698567",
   "metadata": {},
   "outputs": [],
   "source": [
    "# Fill name with role where name and org are missing\n",
    "spokes.loc[\n",
    "    spokes[\"name\"].isna() & spokes[\"org\"].isna() & spokes[\"role\"].notna(),\n",
    "    \"name\",\n",
    "] = spokes[\"role\"]"
   ]
  },
  {
   "cell_type": "markdown",
   "id": "9f562161",
   "metadata": {},
   "source": [
    "## Separating out real people"
   ]
  },
  {
   "cell_type": "markdown",
   "id": "d78bf4c4",
   "metadata": {},
   "source": [
    "I'm aiming to have the name column only include real people with real names. I work to achieve this in two ways:\n",
    "- Basic heuristics, clearing where keywords are present\n",
    "- Using a named entity recognition (NER) model"
   ]
  },
  {
   "cell_type": "code",
   "execution_count": 142,
   "id": "2ef680c2",
   "metadata": {},
   "outputs": [],
   "source": [
    "# If the name is the same as the organisation, blank the name\n",
    "spokes.loc[spokes[\"name\"] == spokes[\"org\"], \"name\"] = pd.NA"
   ]
  },
  {
   "cell_type": "markdown",
   "id": "0fa0e328",
   "metadata": {},
   "source": [
    "### Basic heuristics\n",
    "There are some basic heuristics we can apply to see if a person is actually a person. \n",
    "\n",
    "- Spokespersons: What we see very frequently in the names is \"A spokesperson from XXXX\" or \"A source at XXXX\" and suchlike.\n",
    "- None: There are also a few records where the LLM has returned something along the lines of \"None\" or \"Not applicable\"."
   ]
  },
  {
   "cell_type": "code",
   "execution_count": 143,
   "id": "254964eb",
   "metadata": {},
   "outputs": [],
   "source": [
    "spokes_indicators = [\n",
    "    \"spokesperson\",\n",
    "    \"spokesman\",\n",
    "    \"spokeswoman\",\n",
    "    \"spokespeople\",\n",
    "    \"officer\",\n",
    "    \"official\",\n",
    "    \"officials\",\n",
    "    \"representatives\",\n",
    "    \"communications\",\n",
    "    \"source\",\n",
    "    \"sources\",\n",
    "    \"anonymous\",\n",
    "    \"minister\",\n",
    "    \"ministers\",\n",
    "    \"writer\",\n",
    "    \"writers\",\n",
    "    \"author\",\n",
    "    \"authors\",\n",
    "    \"analyst\",\n",
    "    \"analysts\",\n",
    "    \"unidentified\",\n",
    "    \"office\",\n",
    "    \"soldier\",\n",
    "    \"soldiers\",\n",
    "    \"veteran\",\n",
    "    \"veterans\",\n",
    "    \"mp\",\n",
    "    \"mps\",\n",
    "    \"member\",\n",
    "    \"members\",\n",
    "    \"signatory\",\n",
    "    \"signatories\",\n",
    "    \"advisor\",\n",
    "    \"figure\",\n",
    "    \"figures\",\n",
    "    \"reader\",\n",
    "    \"terrorist\",\n",
    "    \"terrorists\",\n",
    "    \"staff\",\n",
    "    \"staffer\",\n",
    "    \"former\",\n",
    "    \"senior\",\n",
    "    \"aide\",\n",
    "    \"adviser\",\n",
    "    \"advisers\",\n",
    "    \"chair\",\n",
    "    \"chairman\",\n",
    "    \"chairperson\",\n",
    "    \"chairwoman\",\n",
    "    \"ceo\",\n",
    "    \"team\",\n",
    "    \"employee\",\n",
    "]\n",
    "\n",
    "# Check name for spokes indicators\n",
    "is_spoke = (\n",
    "    spokes[\"name\"]\n",
    "    .fillna(\"\")  # avoid NA / NaN\n",
    "    .str.lower()\n",
    "    .apply(lambda x: any(ind in x.split() for ind in spokes_indicators))\n",
    ")\n",
    "\n",
    "# If spoke, set name to role and blank name\n",
    "spokes.loc[is_spoke, \"role\"] = spokes[\"name\"]\n",
    "spokes.loc[is_spoke, \"name\"] = pd.NA\n",
    "\n",
    "# Some names are just \"NA\" or similar, we set these to blank\n",
    "negative_indicators = [\n",
    "    \"none\",\n",
    "    \"n/a\",\n",
    "    \"na\",\n",
    "    \"not applicable\",\n",
    "    \"not available\",\n",
    "    \"unknown\",\n",
    "]\n",
    "\n",
    "# Set to blank if negative indicator in name or organisation\n",
    "for col in [\"name\", \"org\", \"role\"]:\n",
    "    spokes.loc[spokes[col].str.lower().isin(negative_indicators), col] = pd.NA"
   ]
  },
  {
   "cell_type": "markdown",
   "id": "80065b71",
   "metadata": {},
   "source": [
    "### Named-Entity Recognition\n",
    "Whilst the above"
   ]
  },
  {
   "cell_type": "code",
   "execution_count": 144,
   "id": "5d4abd92",
   "metadata": {},
   "outputs": [
    {
     "name": "stderr",
     "output_type": "stream",
     "text": [
      "  0%|          | 0/8916 [00:00<?, ?it/s]"
     ]
    },
    {
     "name": "stderr",
     "output_type": "stream",
     "text": [
      "100%|██████████| 8916/8916 [00:00<00:00, 1922991.44it/s]\n"
     ]
    }
   ],
   "source": [
    "def get_type(\n",
    "    text,\n",
    "    labels=[\"person\", \"organisation\", \"document\", \"country\", \"location\"],\n",
    "    cache={},\n",
    "    threshold=0.35,\n",
    "):\n",
    "    if text in cache:\n",
    "        return cache[text]\n",
    "    entities = ner_model.predict_entities(text, labels, threshold=threshold)\n",
    "    if len(entities) > 0:\n",
    "        entity_types = set([ent[\"label\"] for ent in entities])\n",
    "        if len(entity_types) == 1:\n",
    "            return list(entity_types)[0]\n",
    "        elif len(entity_types) > 1:\n",
    "            if \"person\" in entity_types:\n",
    "                return \"person\"\n",
    "            elif \"organisation\" in entity_types:\n",
    "                return \"organisation\"\n",
    "            elif \"document\" in entity_types:\n",
    "                return \"document\"\n",
    "            elif \"country\" in entity_types:\n",
    "                return \"country\"\n",
    "            elif \"location\" in entity_types:\n",
    "                return \"location\"\n",
    "    else:\n",
    "        return \"other\"\n",
    "\n",
    "\n",
    "with open(\"cache/name_types.json\", \"r\") as f:\n",
    "    cache = json.load(f)\n",
    "\n",
    "all_names = spokes[\"name\"].dropna().astype(str).unique().tolist()\n",
    "name_types = {}\n",
    "for name in tqdm(all_names):\n",
    "    name_types[name] = get_type(name, cache=cache)\n",
    "\n",
    "spokes[\"ner_type\"] = spokes[\"name\"].map(name_types)\n",
    "\n",
    "other_addresses = spokes.loc[spokes[\"ner_type\"] == \"other\"][\"address\"].values\n",
    "\n",
    "# For failures, try the addresses\n",
    "for addr in other_addresses:\n",
    "    name_types[addr] = get_type(\n",
    "        addr,\n",
    "        labels=[\"person\", \"anonymous\", \"formal title\", \"organisation\", \"group\"],\n",
    "        cache={},\n",
    "        threshold=0.5,\n",
    "    )\n",
    "spokes[\"ner_type\"] = spokes[\"name\"].map(name_types)\n",
    "with open(\"cache/name_types.json\", \"w\") as f:\n",
    "    json.dump(name_types, f, indent=4)"
   ]
  },
  {
   "cell_type": "code",
   "execution_count": 145,
   "id": "e0666262",
   "metadata": {},
   "outputs": [],
   "source": [
    "# Where ner_type is organisation, fillna in org with name\n",
    "spokes.loc[spokes[\"ner_type\"] == \"organisation\", \"org\"] = spokes.loc[\n",
    "    spokes[\"ner_type\"] == \"organisation\", \"org\"\n",
    "].fillna(spokes.loc[spokes[\"ner_type\"] == \"organisation\", \"name\"])\n",
    "\n",
    "# Where ner_type is not person or org, fillna in name with role\n",
    "spokes.loc[~spokes[\"ner_type\"].isin([\"person\", \"organisation\"]), \"name\"] = spokes.loc[\n",
    "    ~spokes[\"ner_type\"].isin([\"person\", \"organisation\"]), \"name\"\n",
    "].fillna(spokes.loc[~spokes[\"ner_type\"].isin([\"person\", \"organisation\"]), \"role\"])\n",
    "\n",
    "# Blank out name where ner_type isn't person\n",
    "spokes.loc[~spokes[\"ner_type\"].isin([\"person\"]), \"name\"] = pd.NA"
   ]
  },
  {
   "cell_type": "code",
   "execution_count": 146,
   "id": "406ce8db",
   "metadata": {},
   "outputs": [
    {
     "name": "stdout",
     "output_type": "stream",
     "text": [
      "Unique counts after initial clean:\n",
      "name      7548\n",
      "org       4386\n",
      "role      6114\n",
      "nation     126\n",
      "dtype: int64\n",
      "\n",
      "\n",
      "Unique rows: 16897\n"
     ]
    }
   ],
   "source": [
    "print(\"Unique counts after initial clean:\")\n",
    "print(spokes[ID_COLS].nunique())\n",
    "\n",
    "print(\"\\n\")\n",
    "print(f\"Unique rows: {len(spokes.drop_duplicates(subset=ID_COLS))}\")"
   ]
  },
  {
   "cell_type": "markdown",
   "id": "c6fbbe22",
   "metadata": {},
   "source": [
    "# Vertical deduplication"
   ]
  },
  {
   "cell_type": "code",
   "execution_count": 147,
   "id": "707998d6",
   "metadata": {},
   "outputs": [],
   "source": [
    "from tqdm import tqdm\n",
    "import networkx as nx\n",
    "from annoy import AnnoyIndex\n",
    "\n",
    "from sentence_transformers import SentenceTransformer\n",
    "\n",
    "embedding_model = SentenceTransformer(\"BAAI/bge-base-en-v1.5\")\n",
    "\n",
    "\n",
    "def get_deduped_items(\n",
    "    docs: list[str], weights: list[float | int] = None, thresh=0.7, verbose=False\n",
    ") -> dict:\n",
    "\n",
    "    embeddings = embedding_model.encode(docs)\n",
    "    if weights is not None:\n",
    "        weights = dict(zip(docs, weights))\n",
    "    else:\n",
    "        weights = {}\n",
    "\n",
    "    f = embeddings.shape[1]\n",
    "    t = AnnoyIndex(f, \"angular\")\n",
    "    for i, v in enumerate(embeddings):\n",
    "        t.add_item(i, v)\n",
    "    t.build(10)\n",
    "\n",
    "    out = []\n",
    "\n",
    "    if verbose:\n",
    "        iterator = tqdm(range(len(embeddings)))\n",
    "    else:\n",
    "        iterator = range(len(embeddings))\n",
    "\n",
    "    for idx in iterator:\n",
    "        neighbours = t.get_nns_by_item(idx, 100, include_distances=True)\n",
    "        for n, row in enumerate(zip(*neighbours)):\n",
    "            similarity = 1 - row[1]\n",
    "            if idx != row[0] and similarity >= thresh:\n",
    "                d = {\n",
    "                    \"source_idx\": idx,\n",
    "                    \"target_idx\": row[0],\n",
    "                    \"similarity\": similarity,\n",
    "                    \"source_name\": docs[idx],\n",
    "                    \"target_name\": docs[row[0]],\n",
    "                }\n",
    "                out.append(d)\n",
    "\n",
    "    if len(out) == 0:\n",
    "        return {}, None\n",
    "\n",
    "    distances = pd.DataFrame(out)\n",
    "\n",
    "    G = nx.from_pandas_edgelist(\n",
    "        distances, source=\"source_idx\", target=\"target_idx\", edge_attr=\"similarity\"\n",
    "    )\n",
    "    # update nodes with names and weights\n",
    "    for node in G.nodes:\n",
    "        G.nodes[node][\"name\"] = docs[node]\n",
    "        G.nodes[node][\"weight\"] = weights.get(\n",
    "            docs[node], 1\n",
    "        )  # Default to 1 if no weight\n",
    "\n",
    "    # Get subgraphs\n",
    "    components = list(nx.connected_components(G))\n",
    "\n",
    "    # Return mapping of old to new, choosing the heaviest weighted name in each component\n",
    "    mapping = {}\n",
    "    for component in components:\n",
    "        subgraph = G.subgraph(component)\n",
    "        # Use max to get the node with highest weight (most important/frequent)\n",
    "        heaviest_node = max(subgraph.nodes, key=lambda n: subgraph.nodes[n][\"weight\"])\n",
    "        heaviest_name = subgraph.nodes[heaviest_node][\"name\"]\n",
    "        for node in subgraph.nodes:\n",
    "            if subgraph.nodes[node][\"name\"] != heaviest_name:\n",
    "                mapping[subgraph.nodes[node][\"name\"]] = heaviest_name\n",
    "\n",
    "    return mapping, distances\n",
    "\n",
    "\n",
    "for col in [\"name\", \"org\", \"role\"]:\n",
    "    totals = spokes.groupby(col)[\"count\"].sum().reset_index()\n",
    "    docs = totals[col].fillna(\"\").to_list()\n",
    "    weights = totals[\"count\"].to_list()\n",
    "\n",
    "    # Testing suggests we can go a little deeper on org\n",
    "    if col == \"org\":\n",
    "        thresh = 0.585\n",
    "    else:\n",
    "        thresh = 0.65\n",
    "\n",
    "    mapping, distances = get_deduped_items(docs, weights=weights, thresh=thresh)\n",
    "    for old, new in mapping.items():\n",
    "        spokes.loc[spokes[col] == old, col] = new"
   ]
  },
  {
   "cell_type": "code",
   "execution_count": 148,
   "id": "d895c697",
   "metadata": {},
   "outputs": [
    {
     "name": "stdout",
     "output_type": "stream",
     "text": [
      "Unique counts after vertical deduplication:\n",
      "name      7420\n",
      "org       3700\n",
      "role      5403\n",
      "nation     126\n",
      "dtype: int64\n",
      "\n",
      "\n",
      "Unique rows: 15686\n"
     ]
    }
   ],
   "source": [
    "print(\"Unique counts after vertical deduplication:\")\n",
    "print(spokes[ID_COLS].nunique())\n",
    "\n",
    "print(\"\\n\")\n",
    "print(f\"Unique rows: {len(spokes.drop_duplicates(subset=ID_COLS))}\")"
   ]
  },
  {
   "cell_type": "code",
   "execution_count": 149,
   "id": "418a3d20",
   "metadata": {},
   "outputs": [
    {
     "name": "stdout",
     "output_type": "stream",
     "text": [
      "Found 1914 subgraphs\n"
     ]
    }
   ],
   "source": [
    "import networkx as nx\n",
    "\n",
    "# Min-max scaling function\n",
    "from sklearn.preprocessing import MinMaxScaler\n",
    "\n",
    "scaler = MinMaxScaler(feature_range=(0.1, 1))\n",
    "\n",
    "\n",
    "def make_nodes(col, spokes):\n",
    "    nodes = (\n",
    "        (spokes.groupby(col)[\"count\"].sum().reset_index().assign(type=col))\n",
    "        .reset_index()\n",
    "        .dropna(subset=[col])\n",
    "    ).rename(columns={col: \"label\"})\n",
    "    nodes[\"id\"] = nodes.apply(lambda row: f\"{col}_{row['index']}\", axis=1)\n",
    "    nodes.name = col\n",
    "    return nodes\n",
    "\n",
    "\n",
    "def make_edges(spokes, source_df, target_df, normalize=False):\n",
    "    source_type = source_df.name\n",
    "    target_type = target_df.name\n",
    "\n",
    "    source_ids = source_df[[\"label\", \"id\"]].set_index(\"label\").to_dict()[\"id\"]\n",
    "    target_ids = target_df[[\"label\", \"id\"]].set_index(\"label\").to_dict()[\"id\"]\n",
    "\n",
    "    edges = (\n",
    "        spokes[[source_type, target_type]]\n",
    "        .value_counts()\n",
    "        .reset_index()\n",
    "        .rename(\n",
    "            columns={\n",
    "                source_type: \"source\",\n",
    "                target_type: \"target\",\n",
    "                \"count\": \"value\",\n",
    "            }\n",
    "        )\n",
    "        .assign(source=lambda x: x[\"source\"].map(source_ids))\n",
    "        .assign(target=lambda x: x[\"target\"].map(target_ids))\n",
    "    )\n",
    "    if normalize:\n",
    "        edges[\"value\"] = scaler.fit_transform(edges[[\"value\"]])\n",
    "    return edges\n",
    "\n",
    "\n",
    "def make_nodes_and_edges(spokes, drop_orphans=True, normalize=False):\n",
    "\n",
    "    name_nodes, org_nodes = (\n",
    "        make_nodes(\"name\", spokes),\n",
    "        make_nodes(\"org\", spokes),\n",
    "    )\n",
    "\n",
    "    edges = make_edges(spokes, name_nodes, org_nodes, normalize=normalize)\n",
    "\n",
    "    # Create nodes and ensure they're in edges\n",
    "    nodes = pd.concat([name_nodes, org_nodes], ignore_index=True)\n",
    "\n",
    "    if drop_orphans:\n",
    "        nodes = nodes.query(\"id in @edges.source or id in @edges.target\")\n",
    "\n",
    "    return nodes, edges\n",
    "\n",
    "\n",
    "def make_graph(nodes, edges):\n",
    "\n",
    "    G = nx.from_pandas_edgelist(edges, \"source\", \"target\", [\"value\"])\n",
    "\n",
    "    # Set node attributes\n",
    "    attr_dict = nodes.set_index(\"id\").to_dict(orient=\"index\")\n",
    "    nx.set_node_attributes(G, attr_dict)\n",
    "\n",
    "    # Get subgraphs\n",
    "    subgraphs = list(nx.connected_components(G))\n",
    "    print(f\"Found {len(subgraphs)} subgraphs\")\n",
    "\n",
    "    # Map subgraph ID to nodes and dataframe\n",
    "    subgraph_map = {}\n",
    "    for i, sg in enumerate(subgraphs):\n",
    "        for node in sg:\n",
    "            subgraph_map[node] = i\n",
    "\n",
    "    largest_sg = max(subgraphs, key=len)\n",
    "\n",
    "    # Cluster largest subgraph only\n",
    "    G_largest = G.subgraph(largest_sg)\n",
    "    G_largest_clusters = nx.community.louvain_communities(\n",
    "        G_largest, weight=\"value\", resolution=2\n",
    "    )\n",
    "    G_largest_cluster_map = {}\n",
    "    for i, cluster in enumerate(G_largest_clusters):\n",
    "        for node in cluster:\n",
    "            G_largest_cluster_map[node] = f\"large_{i}\"\n",
    "\n",
    "    cluster_map = {**G_largest_cluster_map}\n",
    "\n",
    "    # Cluster everything else\n",
    "\n",
    "    G_sg = G.subgraph([node for node in G.nodes if node not in largest_sg])\n",
    "    clusters = nx.community.louvain_communities(G_sg, weight=\"value\", resolution=0.5)\n",
    "\n",
    "    # Map nodes to their cluster\n",
    "    for i, cluster in enumerate(clusters):\n",
    "        for node in cluster:\n",
    "            cluster_map[node] = f\"other_{i}\"\n",
    "\n",
    "    nodes[\"subgraph\"] = nodes[\"id\"].map(subgraph_map)\n",
    "    nodes[\"subgraph_size\"] = nodes[\"subgraph\"].map(nodes[\"subgraph\"].value_counts())\n",
    "    nodes[\"cluster\"] = nodes[\"id\"].map(cluster_map)\n",
    "\n",
    "    return nodes, edges, G\n",
    "\n",
    "\n",
    "nodes, edges = make_nodes_and_edges(spokes)\n",
    "nodes, edges, G = make_graph(nodes, edges)"
   ]
  },
  {
   "cell_type": "code",
   "execution_count": 150,
   "id": "b7008fda",
   "metadata": {},
   "outputs": [
    {
     "data": {
      "application/vnd.jupyter.widget-view+json": {
       "model_id": "7b35c137b6f9439a83f6fc0f95f7a1bf",
       "version_major": 2,
       "version_minor": 1
      },
      "text/plain": [
       "Cosmograph(background_color=None, disable_simulation=False, focused_point_ring_color=None, hovered_point_ring_…"
      ]
     },
     "execution_count": 150,
     "metadata": {},
     "output_type": "execute_result"
    }
   ],
   "source": [
    "from cosmograph import cosmo\n",
    "\n",
    "widget = cosmo(\n",
    "    points=nodes,\n",
    "    links=edges,\n",
    "    point_id_by=\"id\",\n",
    "    point_label_by=\"label\",\n",
    "    point_size_by=\"count\",\n",
    "    link_source_by=\"source\",\n",
    "    link_target_by=\"target\",\n",
    "    disable_simulation=False,\n",
    "    point_color_by=\"cluster\",\n",
    ")\n",
    "\n",
    "widget"
   ]
  },
  {
   "cell_type": "code",
   "execution_count": 151,
   "id": "22ab4faa",
   "metadata": {},
   "outputs": [],
   "source": [
    "# Iterate over nodes and update names and organisations in spokes using `get_deduped_items`\n",
    "names_map = {}\n",
    "orgs_map = {}\n",
    "\n",
    "for idx, group in nodes.groupby(\"cluster\"):\n",
    "\n",
    "    for node_type in [\"name\", \"org\"]:\n",
    "\n",
    "        entities = group[group[\"type\"] == node_type]\n",
    "        totals = entities[[\"label\", \"count\"]].set_index(\"label\")\n",
    "\n",
    "        docs = entities[\"label\"].to_list()\n",
    "        weights = totals[\"count\"].to_list()\n",
    "\n",
    "        if len(docs) > 1:\n",
    "            deduped, dists = get_deduped_items(docs, weights=weights, thresh=0.5)\n",
    "            if node_type == \"name\":\n",
    "                names_map.update(deduped)\n",
    "            elif node_type == \"org\":\n",
    "                orgs_map.update(deduped)\n",
    "\n",
    "spokes[\"name\"] = spokes[\"name\"].map(names_map).fillna(spokes[\"name\"])\n",
    "spokes[\"org\"] = spokes[\"org\"].map(orgs_map).fillna(spokes[\"org\"])"
   ]
  },
  {
   "cell_type": "code",
   "execution_count": 152,
   "id": "1b20abe2",
   "metadata": {},
   "outputs": [
    {
     "name": "stdout",
     "output_type": "stream",
     "text": [
      "\n",
      "\n",
      "\n",
      "\n",
      "Unique counts after horizontal deduplication:\n",
      "name      7287\n",
      "org       3637\n",
      "role      5403\n",
      "nation     126\n",
      "dtype: int64\n",
      "Total unique spokes: 15505\n"
     ]
    }
   ],
   "source": [
    "print(\"\\n\")\n",
    "print(\"\\n\")\n",
    "print(\"Unique counts after horizontal deduplication:\")\n",
    "print(spokes[ID_COLS].nunique())\n",
    "\n",
    "print(f\"Total unique spokes: {len(spokes.drop_duplicates(subset=ID_COLS))}\")"
   ]
  },
  {
   "cell_type": "markdown",
   "id": "2a8a3071",
   "metadata": {},
   "source": [
    "# Horizontal deduplication"
   ]
  },
  {
   "cell_type": "code",
   "execution_count": 153,
   "id": "9a7d66a1",
   "metadata": {},
   "outputs": [],
   "source": [
    "spokes[\"org_id\"] = spokes[\"org\"].apply(\n",
    "    lambda x: quick_hash(x) if pd.notna(x) else pd.NA\n",
    ")\n",
    "\n",
    "top_names = spokes.groupby(\"name\")[\"count\"].sum()\n",
    "top_orgs = spokes.groupby(\"org\")[\"count\"].sum()\n",
    "top_roles = spokes.groupby(\"role\")[\"count\"].sum()\n",
    "\n",
    "\n",
    "class Person:\n",
    "    def __init__(\n",
    "        self,\n",
    "        person_id=None,\n",
    "        spoke_ids=None,\n",
    "        name=None,\n",
    "        org=None,\n",
    "        all_orgs=None,\n",
    "        role=None,\n",
    "        nation=None,\n",
    "        count=0,\n",
    "    ):\n",
    "        self.spoke_id = spoke_ids\n",
    "        self.name = name\n",
    "        self.org = org\n",
    "        self.all_orgs = all_orgs\n",
    "        self.role = role\n",
    "        self.nation = nation\n",
    "        self.count = count\n",
    "        self.address = \", \".join(\n",
    "            [str(i) for i in [name, org, role, nation] if pd.notna(i) and i != \"\"]\n",
    "        )\n",
    "        self.person_id = (\n",
    "            quick_hash(self.address)\n",
    "            if pd.notna(self.address) and self.address != \"\"\n",
    "            else None\n",
    "        )\n",
    "\n",
    "    @staticmethod\n",
    "    def _pick_org(candidates, top_orgs):\n",
    "        if len(candidates[\"org\"].unique()) == 1:\n",
    "            return candidates[\"org\"].iloc[0]\n",
    "        else:\n",
    "            # Pick the org with the highest total count\n",
    "            candidates = candidates.copy()\n",
    "            candidates[\"total_count\"] = candidates[\"org\"].map(top_orgs)\n",
    "            candidates = candidates.sort_values(by=\"total_count\", ascending=False)\n",
    "            return candidates[\"org\"].iloc[0]\n",
    "\n",
    "    @classmethod\n",
    "    def from_rows(cls, name, candidates, top_orgs):\n",
    "        # Simply aggregate all candidates into a single person record\n",
    "\n",
    "        # Pick the most common organization\n",
    "        org = (\n",
    "            cls._pick_org(candidates, top_orgs)\n",
    "            if len(candidates[\"org\"].dropna()) > 0\n",
    "            else None\n",
    "        )\n",
    "        org = org if pd.notna(org) else None\n",
    "\n",
    "        # Get all organizations this person is associated with\n",
    "        all_orgs = (\n",
    "            candidates.sort_values(by=\"count\", ascending=False)[\"org\"]\n",
    "            .dropna()\n",
    "            .unique()\n",
    "            .tolist()\n",
    "        )\n",
    "\n",
    "        # Pick the most common role\n",
    "        role_counts = candidates.groupby(\"role\")[\"count\"].sum()\n",
    "        role = role_counts.idxmax() if len(role_counts) > 0 else None\n",
    "\n",
    "        # Pick the most common nation\n",
    "        nation_counts = candidates.groupby(\"nation\")[\"count\"].sum()\n",
    "        nation = nation_counts.idxmax() if len(nation_counts) > 0 else None\n",
    "\n",
    "        return cls(\n",
    "            person_id=None,\n",
    "            spoke_ids=candidates[\"spoke_id\"].tolist(),\n",
    "            name=name,\n",
    "            org=org,\n",
    "            all_orgs=all_orgs,\n",
    "            role=role,\n",
    "            nation=nation,\n",
    "            count=candidates[\"count\"].sum(),\n",
    "        )\n",
    "\n",
    "    def __repr__(self):\n",
    "        return f\"Person(name={self.name}, org={self.org}, role={self.role}, nation={self.nation}, count={self.count}, all_orgs={self.all_orgs})\"\n",
    "\n",
    "    def to_dict(self):\n",
    "        return {\n",
    "            \"person_id\": self.person_id,\n",
    "            \"spoke_ids\": self.spoke_id,\n",
    "            \"name\": self.name,\n",
    "            \"org\": self.org,\n",
    "            \"all_orgs\": self.all_orgs,\n",
    "            \"role\": self.role,\n",
    "            \"nation\": self.nation,\n",
    "            \"count\": self.count,\n",
    "            \"address\": self.address,\n",
    "        }\n",
    "\n",
    "\n",
    "all_people = []\n",
    "for person in spokes[\"name\"].dropna().unique():\n",
    "    candidates = spokes[spokes[\"name\"] == person][\n",
    "        [\"spoke_id\", \"name\", \"org\", \"role\", \"nation\", \"count\", \"address\"]\n",
    "    ].drop_duplicates()\n",
    "    all_people.append(Person.from_rows(person, candidates, top_orgs))"
   ]
  },
  {
   "cell_type": "code",
   "execution_count": 154,
   "id": "9472b6b8",
   "metadata": {},
   "outputs": [],
   "source": [
    "people_df = pd.DataFrame([p.to_dict() for p in all_people])\n",
    "mapping, edges = get_deduped_items(\n",
    "    docs=[p.address for p in all_people],\n",
    "    weights=[p.count for p in all_people],\n",
    "    thresh=0.6,\n",
    ")\n",
    "\n",
    "if mapping:  # Only proceed if there are duplicates to merge\n",
    "    # Create complete mapping from address to person object\n",
    "    address_to_person = {p.address: p for p in all_people}\n",
    "\n",
    "    # Process merges\n",
    "    for old_address, new_address in mapping.items():\n",
    "        # As python creates references, we can directly update the objects like this\n",
    "        old_person = address_to_person[old_address]\n",
    "        new_person = address_to_person[new_address]\n",
    "\n",
    "        # Merge spoke ids\n",
    "        new_person.spoke_id = list(set(new_person.spoke_id + old_person.spoke_id))\n",
    "\n",
    "        # Merge all orgs\n",
    "        new_person.all_orgs = list(set(new_person.all_orgs + old_person.all_orgs))\n",
    "\n",
    "        # Update count\n",
    "        new_person.count += old_person.count\n",
    "\n",
    "    # Remove old people\n",
    "    all_people = [p for p in all_people if p.address not in mapping.keys()]"
   ]
  },
  {
   "cell_type": "code",
   "execution_count": 155,
   "id": "cdb537a5",
   "metadata": {},
   "outputs": [],
   "source": [
    "# Add back to spokes\n",
    "spokes[\"all_orgs\"] = pd.NA\n",
    "for p in all_people:\n",
    "    records_to_replace = spokes[\"spoke_id\"].isin(p.spoke_id)\n",
    "    for field in [\n",
    "        \"name\",\n",
    "        \"org\",\n",
    "        \"role\",\n",
    "        \"nation\",\n",
    "        \"address\",\n",
    "        \"all_orgs\",\n",
    "        \"count\",\n",
    "    ]:\n",
    "        if field == \"all_orgs\":\n",
    "            spokes.loc[records_to_replace, field] = str(p.all_orgs)\n",
    "        else:\n",
    "            spokes.loc[records_to_replace, field] = getattr(p, field)"
   ]
  },
  {
   "cell_type": "code",
   "execution_count": 156,
   "id": "2d2e1ef4",
   "metadata": {},
   "outputs": [],
   "source": [
    "# update address for all spokes, they're out of sync by now\n",
    "spokes[\"address\"] = spokes.apply(\n",
    "    lambda row: \", \".join(\n",
    "        [str(row[col]) for col in ID_COLS if pd.notna(row[col]) and row[col] != \"\"]\n",
    "    ),\n",
    "    axis=1,\n",
    ")"
   ]
  },
  {
   "cell_type": "code",
   "execution_count": 157,
   "id": "a8536241",
   "metadata": {},
   "outputs": [
    {
     "name": "stdout",
     "output_type": "stream",
     "text": [
      "\n",
      "\n",
      "\n",
      "\n",
      "Unique counts after horizontal deduplication:\n",
      "name      7202\n",
      "org       3334\n",
      "role      4216\n",
      "nation     115\n",
      "dtype: int64\n",
      "Total unique spokes: 11112\n"
     ]
    }
   ],
   "source": [
    "print(\"\\n\")\n",
    "print(\"\\n\")\n",
    "print(\"Unique counts after horizontal deduplication:\")\n",
    "print(spokes[ID_COLS].nunique())\n",
    "\n",
    "print(f\"Total unique spokes: {len(spokes.drop_duplicates(subset=ID_COLS))}\")"
   ]
  },
  {
   "cell_type": "code",
   "execution_count": null,
   "id": "81b1e11b",
   "metadata": {},
   "outputs": [
    {
     "data": {
      "application/vnd.microsoft.datawrangler.viewer.v0+json": {
       "columns": [
        {
         "name": "index",
         "rawType": "int64",
         "type": "integer"
        },
        {
         "name": "org",
         "rawType": "object",
         "type": "unknown"
        },
        {
         "name": "nation",
         "rawType": "object",
         "type": "unknown"
        },
        {
         "name": "count",
         "rawType": "int64",
         "type": "integer"
        }
       ],
       "ref": "e9af47e7-1f64-43be-868d-f59db81dee36",
       "rows": [
        [
         "0",
         "#BringThemHomeNow",
         "ISR",
         "30"
        ],
        [
         "1",
         "+972",
         "ISR",
         "1"
        ],
        [
         "2",
         "113 Civil Society Groups",
         null,
         "1"
        ],
        [
         "3",
         "1975",
         "GBR",
         "1"
        ],
        [
         "4",
         "2016 Eurovision Song Contest's Swedish Hosts",
         "SWE",
         "3"
        ],
        [
         "5",
         "26 Yemeni and International Organisations, Including Save the Children and the Norwegian Refugee Council",
         null,
         "3"
        ],
        [
         "6",
         "3AW",
         "AUS",
         "1"
        ],
        [
         "7",
         "3AW",
         null,
         "2"
        ],
        [
         "8",
         "4BC",
         "AUS",
         "1"
        ],
        [
         "9",
         "5pillars Website",
         null,
         "1"
        ],
        [
         "10",
         "600 of the Nation's Top Lawyers",
         "GBR",
         "1"
        ],
        [
         "11",
         "7/10 Human Chain Project",
         null,
         "2"
        ],
        [
         "12",
         "7056th Paratrooper Battalion",
         "ISR",
         "1"
        ],
        [
         "13",
         "7amleh",
         "PLE",
         "2"
        ],
        [
         "14",
         "7amleh, the Arab Center for Social Media Advancement",
         null,
         "15"
        ],
        [
         "15",
         "9/11 Justice",
         null,
         "1"
        ],
        [
         "16",
         "92NY",
         null,
         "1"
        ],
        [
         "17",
         "92nd Street Y Centre",
         null,
         "2"
        ],
        [
         "18",
         "@WarMonitors",
         null,
         "1"
        ],
        [
         "19",
         "ABC",
         "USA",
         "1"
        ],
        [
         "20",
         "ABC",
         null,
         "8"
        ],
        [
         "21",
         "ABC News",
         "AUS",
         "1"
        ],
        [
         "22",
         "ABC News",
         "USA",
         "1"
        ],
        [
         "23",
         "ABC Radio Sydney",
         null,
         "1"
        ],
        [
         "24",
         "AI Company",
         null,
         "2"
        ],
        [
         "25",
         "AI21Labs",
         "ISR",
         "1"
        ],
        [
         "26",
         "ANU Students' Association",
         null,
         "1"
        ],
        [
         "27",
         "AP Moller Maersk",
         "DNK",
         "1"
        ],
        [
         "28",
         "AP Moller Maersk",
         null,
         "1"
        ],
        [
         "29",
         "AT&T",
         "USA",
         "2"
        ],
        [
         "30",
         "AVROTROS",
         "NLD",
         "2"
        ],
        [
         "31",
         "Abandon Harris Campaign",
         "USA",
         "2"
        ],
        [
         "32",
         "Abandon Harris Campaign",
         null,
         "3"
        ],
        [
         "33",
         "Abdullah Quilliam Society",
         null,
         "4"
        ],
        [
         "34",
         "Aberystwyth University",
         null,
         "3"
        ],
        [
         "35",
         "Abir Al Laham",
         "PLE",
         "2"
        ],
        [
         "36",
         "Abu Shabab's Family",
         "PLE",
         "1"
        ],
        [
         "37",
         "Academics for Palestine",
         null,
         "1"
        ],
        [
         "38",
         "Access Industries",
         null,
         "2"
        ],
        [
         "39",
         "Action Against Hunger",
         null,
         "3"
        ],
        [
         "40",
         "Action Against War Crimes",
         null,
         "2"
        ],
        [
         "41",
         "Action Aid",
         null,
         "1"
        ],
        [
         "42",
         "Action for Humanity",
         null,
         "1"
        ],
        [
         "43",
         "Action on Armed Violence",
         null,
         "7"
        ],
        [
         "44",
         "ActionAid",
         "GBR",
         "2"
        ],
        [
         "45",
         "ActionAid",
         null,
         "6"
        ],
        [
         "46",
         "ActionAid Palestine",
         null,
         "1"
        ],
        [
         "47",
         "Ad Standards",
         "AUS",
         "1"
        ],
        [
         "48",
         "Ad on Facebook",
         null,
         "1"
        ],
        [
         "49",
         "Adalah",
         "PLE",
         "18"
        ]
       ],
       "shape": {
        "columns": 3,
        "rows": 3984
       }
      },
      "text/html": [
       "<div>\n",
       "<style scoped>\n",
       "    .dataframe tbody tr th:only-of-type {\n",
       "        vertical-align: middle;\n",
       "    }\n",
       "\n",
       "    .dataframe tbody tr th {\n",
       "        vertical-align: top;\n",
       "    }\n",
       "\n",
       "    .dataframe thead th {\n",
       "        text-align: right;\n",
       "    }\n",
       "</style>\n",
       "<table border=\"1\" class=\"dataframe\">\n",
       "  <thead>\n",
       "    <tr style=\"text-align: right;\">\n",
       "      <th></th>\n",
       "      <th>org</th>\n",
       "      <th>nation</th>\n",
       "      <th>count</th>\n",
       "    </tr>\n",
       "  </thead>\n",
       "  <tbody>\n",
       "    <tr>\n",
       "      <th>0</th>\n",
       "      <td>#BringThemHomeNow</td>\n",
       "      <td>ISR</td>\n",
       "      <td>30</td>\n",
       "    </tr>\n",
       "    <tr>\n",
       "      <th>1</th>\n",
       "      <td>+972</td>\n",
       "      <td>ISR</td>\n",
       "      <td>1</td>\n",
       "    </tr>\n",
       "    <tr>\n",
       "      <th>2</th>\n",
       "      <td>113 Civil Society Groups</td>\n",
       "      <td>NaN</td>\n",
       "      <td>1</td>\n",
       "    </tr>\n",
       "    <tr>\n",
       "      <th>3</th>\n",
       "      <td>1975</td>\n",
       "      <td>GBR</td>\n",
       "      <td>1</td>\n",
       "    </tr>\n",
       "    <tr>\n",
       "      <th>4</th>\n",
       "      <td>2016 Eurovision Song Contest's Swedish Hosts</td>\n",
       "      <td>SWE</td>\n",
       "      <td>3</td>\n",
       "    </tr>\n",
       "    <tr>\n",
       "      <th>...</th>\n",
       "      <td>...</td>\n",
       "      <td>...</td>\n",
       "      <td>...</td>\n",
       "    </tr>\n",
       "    <tr>\n",
       "      <th>3979</th>\n",
       "      <td>NaN</td>\n",
       "      <td>VNM</td>\n",
       "      <td>1</td>\n",
       "    </tr>\n",
       "    <tr>\n",
       "      <th>3980</th>\n",
       "      <td>NaN</td>\n",
       "      <td>YEM</td>\n",
       "      <td>1</td>\n",
       "    </tr>\n",
       "    <tr>\n",
       "      <th>3981</th>\n",
       "      <td>NaN</td>\n",
       "      <td>ZAF</td>\n",
       "      <td>21</td>\n",
       "    </tr>\n",
       "    <tr>\n",
       "      <th>3982</th>\n",
       "      <td>NaN</td>\n",
       "      <td>ZWE</td>\n",
       "      <td>1</td>\n",
       "    </tr>\n",
       "    <tr>\n",
       "      <th>3983</th>\n",
       "      <td>NaN</td>\n",
       "      <td>NaN</td>\n",
       "      <td>4028</td>\n",
       "    </tr>\n",
       "  </tbody>\n",
       "</table>\n",
       "<p>3984 rows × 3 columns</p>\n",
       "</div>"
      ],
      "text/plain": [
       "                                               org nation  count\n",
       "0                                #BringThemHomeNow    ISR     30\n",
       "1                                             +972    ISR      1\n",
       "2                         113 Civil Society Groups    NaN      1\n",
       "3                                             1975    GBR      1\n",
       "4     2016 Eurovision Song Contest's Swedish Hosts    SWE      3\n",
       "...                                            ...    ...    ...\n",
       "3979                                           NaN    VNM      1\n",
       "3980                                           NaN    YEM      1\n",
       "3981                                           NaN    ZAF     21\n",
       "3982                                           NaN    ZWE      1\n",
       "3983                                           NaN    NaN   4028\n",
       "\n",
       "[3984 rows x 3 columns]"
      ]
     },
     "execution_count": 161,
     "metadata": {},
     "output_type": "execute_result"
    }
   ],
   "source": [
    "spokes.groupby([\"org\", \"nation\"], dropna=False)[\"count\"].sum().reset_index()"
   ]
  },
  {
   "cell_type": "code",
   "execution_count": null,
   "id": "96179b40",
   "metadata": {},
   "outputs": [],
   "source": [
    "class Quote:\n",
    "    quote_id: str\n",
    "    spoke_id: str\n",
    "\n",
    "\n",
    "class Organisation:\n",
    "    def __init__(self, org_id=None, name=None, nation=None, other_nations=None):\n",
    "        self.org_id = org_id\n",
    "        self.name = name\n",
    "        self.nation = nation\n",
    "        self.other_nations = other_nations or []\n",
    "\n",
    "    @classmethod\n",
    "    def from_rows(cls, name, spokes):\n",
    "        candidates = spokes[spokes[\"org\"] == name][\n",
    "            [\"org_id\", \"org\", \"nation\"]\n",
    "        ].drop_duplicates()\n",
    "\n",
    "        if len(candidates) == 1:\n",
    "            row = candidates.iloc[0]\n",
    "            return cls(\n",
    "                org_id=row[\"org_id\"],\n",
    "                name=row[\"org\"],\n",
    "                nation=None,\n",
    "                other_nations=[],\n",
    "            )\n",
    "        else:\n",
    "            # candidates org_id should be the same, check\n",
    "            try:\n",
    "                assert len(candidates[\"org_id\"].unique()) == 1\n",
    "                org_id = candidates[\"org_id\"].iloc[0]\n",
    "            except:\n",
    "                print(f\"Warning: multiple org_ids for org {name}\")\n",
    "                print(candidates[\"org_id\"].unique())\n",
    "                org_id = candidates[\"org_id\"].iloc[0]\n",
    "\n",
    "            # same with name\n",
    "            try:\n",
    "                assert len(candidates[\"org\"].unique()) == 1\n",
    "                org_name = candidates[\"org\"].iloc[0]\n",
    "            except:\n",
    "                print(f\"Warning: multiple org names for org {name}\")\n",
    "                print(candidates[\"org\"].unique())\n",
    "                org_name = candidates[\"org\"].iloc[0]\n",
    "\n",
    "            return cls(org_id=org_id, name=org_name, nation=None, other_nations=[])\n",
    "\n",
    "    def __repr__(self):\n",
    "        return f\"Organisation(org_id={self.org_id}, name={self.name}, nation={self.nation}, other_nations={self.other_nations})\"\n",
    "\n",
    "    def __str__(self):\n",
    "        return self.__repr__()"
   ]
  },
  {
   "cell_type": "code",
   "execution_count": null,
   "id": "b784b5db",
   "metadata": {},
   "outputs": [],
   "source": [
    "spokes"
   ]
  },
  {
   "cell_type": "code",
   "execution_count": null,
   "id": "569131b8",
   "metadata": {},
   "outputs": [],
   "source": [
    "address_counts"
   ]
  },
  {
   "cell_type": "code",
   "execution_count": null,
   "id": "dac7fec9",
   "metadata": {},
   "outputs": [],
   "source": [
    "top_orgs = spokes.groupby(\"organisation\")[\"count\"].sum()\n",
    "top_spokes = spokes.groupby(\"name\")[\"count\"].sum()\n",
    "\n",
    "top_spokes.loc[lambda x: x >= 5]"
   ]
  },
  {
   "cell_type": "code",
   "execution_count": null,
   "id": "7780cdf8",
   "metadata": {},
   "outputs": [],
   "source": [
    "bibi = spokes.loc[spokes[\"name\"] == \"Keir Starmer\"]\n",
    "print(len(bibi))\n",
    "mapping, distances = get_deduped_items(\n",
    "    bibi[\"address\"].to_list(), bibi[\"count\"].mul(bibi[\"complete\"]).to_list(), thresh=0\n",
    ")\n",
    "len(mapping)\n",
    "mapping\n",
    "\n",
    "# Weight by recency / num orgs"
   ]
  },
  {
   "cell_type": "code",
   "execution_count": null,
   "id": "c308a919",
   "metadata": {},
   "outputs": [],
   "source": [
    "spokes"
   ]
  },
  {
   "cell_type": "code",
   "execution_count": null,
   "id": "8ac62959",
   "metadata": {},
   "outputs": [],
   "source": [
    "from cosmograph import cosmo\n",
    "\n",
    "widget = cosmo(\n",
    "    points=nodes[nodes[\"subgraph_size\"] > 10],\n",
    "    links=edges.query(\"source in @nodes.id and target in @nodes.id\"),\n",
    "    point_id_by=\"id\",\n",
    "    link_source_by=\"source\",\n",
    "    link_target_by=\"target\",\n",
    "    point_color_by=\"cluster\",\n",
    "    point_size_by=\"count\",\n",
    ")\n",
    "\n",
    "widget"
   ]
  }
 ],
 "metadata": {
  "kernelspec": {
   "display_name": "base (3.13.5)",
   "language": "python",
   "name": "python3"
  },
  "language_info": {
   "codemirror_mode": {
    "name": "ipython",
    "version": 3
   },
   "file_extension": ".py",
   "mimetype": "text/x-python",
   "name": "python",
   "nbconvert_exporter": "python",
   "pygments_lexer": "ipython3",
   "version": "3.13.5"
  }
 },
 "nbformat": 4,
 "nbformat_minor": 5
}
